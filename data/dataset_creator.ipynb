{
 "cells": [
  {
   "cell_type": "code",
   "execution_count": 1,
   "metadata": {},
   "outputs": [],
   "source": [
    "import pandas as pd\n",
    "import glob\n",
    "import sys\n",
    "import glob\n",
    "sys.path.append('/home/pierre/riken/io')\n",
    "\n",
    "from riken.protein_io import reader\n",
    "\n",
    "pd.options.display.max_colwidth = 50"
   ]
  },
  {
   "cell_type": "markdown",
   "metadata": {},
   "source": [
    "## Allergens"
   ]
  },
  {
   "cell_type": "code",
   "execution_count": 2,
   "metadata": {},
   "outputs": [],
   "source": [
    "allergens_df = reader.read_fasta('/home/pierre/riken/data/riken_data/COMPARE_2018.txt').assign(is_allergenic=lambda x: True)\n",
    "\n",
    "genre_species = (allergens_df.description.str.extract(r'\\[(.*?)\\]').iloc[:, 0]\n",
    "                         .str.lower()\n",
    "                         .str.split(expand=True).iloc[:, :2])\n",
    "\n",
    "prot_index = (allergens_df.description\n",
    "                         .str.split(pat='|', expand=True).iloc[:, 1]\n",
    "                         .str.lower())\n",
    "\n",
    "allergens_df.loc[:, 'genre'], allergens_df.loc[:, 'species'] = genre_species.iloc[:, 0], genre_species.iloc[:, 1]\n",
    "allergens_df.loc[:, 'prot_index'] = prot_index"
   ]
  },
  {
   "cell_type": "code",
   "execution_count": 3,
   "metadata": {},
   "outputs": [
    {
     "data": {
      "text/html": [
       "<div>\n",
       "<style scoped>\n",
       "    .dataframe tbody tr th:only-of-type {\n",
       "        vertical-align: middle;\n",
       "    }\n",
       "\n",
       "    .dataframe tbody tr th {\n",
       "        vertical-align: top;\n",
       "    }\n",
       "\n",
       "    .dataframe thead th {\n",
       "        text-align: right;\n",
       "    }\n",
       "</style>\n",
       "<table border=\"1\" class=\"dataframe\">\n",
       "  <thead>\n",
       "    <tr style=\"text-align: right;\">\n",
       "      <th></th>\n",
       "      <th>description</th>\n",
       "      <th>idx</th>\n",
       "      <th>name</th>\n",
       "      <th>sequences</th>\n",
       "      <th>is_allergenic</th>\n",
       "      <th>genre</th>\n",
       "      <th>species</th>\n",
       "      <th>prot_index</th>\n",
       "    </tr>\n",
       "  </thead>\n",
       "  <tbody>\n",
       "    <tr>\n",
       "      <th>0</th>\n",
       "      <td>accession|2|Putative Blo t 1.02 Manual Entry [...</td>\n",
       "      <td>accession|2|Putative</td>\n",
       "      <td>accession|2|Putative</td>\n",
       "      <td>(M, K, F, L, L, V, A, A, L, C, A, L, V, A, I, ...</td>\n",
       "      <td>True</td>\n",
       "      <td>blomia</td>\n",
       "      <td>tropicalis</td>\n",
       "      <td>2</td>\n",
       "    </tr>\n",
       "    <tr>\n",
       "      <th>1</th>\n",
       "      <td>accession|3|Putative vitellogenin I Manual Ent...</td>\n",
       "      <td>accession|3|Putative</td>\n",
       "      <td>accession|3|Putative</td>\n",
       "      <td>(E, I, A, S, Q, I, A, Q, E, D, Q, S, T, C, E, ...</td>\n",
       "      <td>True</td>\n",
       "      <td>gallus</td>\n",
       "      <td>gallus</td>\n",
       "      <td>3</td>\n",
       "    </tr>\n",
       "  </tbody>\n",
       "</table>\n",
       "</div>"
      ],
      "text/plain": [
       "                                         description                   idx  \\\n",
       "0  accession|2|Putative Blo t 1.02 Manual Entry [...  accession|2|Putative   \n",
       "1  accession|3|Putative vitellogenin I Manual Ent...  accession|3|Putative   \n",
       "\n",
       "                   name                                          sequences  \\\n",
       "0  accession|2|Putative  (M, K, F, L, L, V, A, A, L, C, A, L, V, A, I, ...   \n",
       "1  accession|3|Putative  (E, I, A, S, Q, I, A, Q, E, D, Q, S, T, C, E, ...   \n",
       "\n",
       "   is_allergenic   genre     species prot_index  \n",
       "0           True  blomia  tropicalis          2  \n",
       "1           True  gallus      gallus          3  "
      ]
     },
     "execution_count": 3,
     "metadata": {},
     "output_type": "execute_result"
    }
   ],
   "source": [
    "allergens_df.head(2)"
   ]
  },
  {
   "cell_type": "markdown",
   "metadata": {},
   "source": [
    "## Non-allergens"
   ]
  },
  {
   "cell_type": "code",
   "execution_count": 4,
   "metadata": {},
   "outputs": [],
   "source": [
    "no_allergens_path = glob.glob('/home/pierre/riken/data/riken_data/xlsx/*')\n",
    "excel_df = pd.concat([pd.read_excel(file, sheet_name='non allergen') for file in no_allergens_path], \n",
    "                     ignore_index=True)\n",
    "aa_sequences_path = glob.glob('/home/pierre/riken/data/riken_data/fasta/*')\n",
    "seq_df = (pd.concat([reader.read_fasta(file) for file in aa_sequences_path], ignore_index=True)\n",
    "          .assign(Entry=lambda x: x.name.str.split(pat='|', expand=True)[1]))"
   ]
  },
  {
   "cell_type": "code",
   "execution_count": 5,
   "metadata": {},
   "outputs": [
    {
     "data": {
      "text/html": [
       "<div>\n",
       "<style scoped>\n",
       "    .dataframe tbody tr th:only-of-type {\n",
       "        vertical-align: middle;\n",
       "    }\n",
       "\n",
       "    .dataframe tbody tr th {\n",
       "        vertical-align: top;\n",
       "    }\n",
       "\n",
       "    .dataframe thead th {\n",
       "        text-align: right;\n",
       "    }\n",
       "</style>\n",
       "<table border=\"1\" class=\"dataframe\">\n",
       "  <thead>\n",
       "    <tr style=\"text-align: right;\">\n",
       "      <th></th>\n",
       "      <th>description</th>\n",
       "      <th>idx</th>\n",
       "      <th>name</th>\n",
       "      <th>sequences</th>\n",
       "      <th>Entry</th>\n",
       "    </tr>\n",
       "  </thead>\n",
       "  <tbody>\n",
       "    <tr>\n",
       "      <th>0</th>\n",
       "      <td>sp|I1JLC8|SLE2_SOYBN Protein SLE2 OS=Glycine m...</td>\n",
       "      <td>sp|I1JLC8|SLE2_SOYBN</td>\n",
       "      <td>sp|I1JLC8|SLE2_SOYBN</td>\n",
       "      <td>(M, A, S, R, Q, N, N, K, Q, E, L, D, E, R, A, ...</td>\n",
       "      <td>I1JLC8</td>\n",
       "    </tr>\n",
       "    <tr>\n",
       "      <th>1</th>\n",
       "      <td>sp|Q39821|SDLCA_SOYBN Dynamin-related protein ...</td>\n",
       "      <td>sp|Q39821|SDLCA_SOYBN</td>\n",
       "      <td>sp|Q39821|SDLCA_SOYBN</td>\n",
       "      <td>(M, E, N, L, I, S, L, V, N, K, I, Q, R, A, C, ...</td>\n",
       "      <td>Q39821</td>\n",
       "    </tr>\n",
       "  </tbody>\n",
       "</table>\n",
       "</div>"
      ],
      "text/plain": [
       "                                         description                    idx  \\\n",
       "0  sp|I1JLC8|SLE2_SOYBN Protein SLE2 OS=Glycine m...   sp|I1JLC8|SLE2_SOYBN   \n",
       "1  sp|Q39821|SDLCA_SOYBN Dynamin-related protein ...  sp|Q39821|SDLCA_SOYBN   \n",
       "\n",
       "                    name                                          sequences  \\\n",
       "0   sp|I1JLC8|SLE2_SOYBN  (M, A, S, R, Q, N, N, K, Q, E, L, D, E, R, A, ...   \n",
       "1  sp|Q39821|SDLCA_SOYBN  (M, E, N, L, I, S, L, V, N, K, I, Q, R, A, C, ...   \n",
       "\n",
       "    Entry  \n",
       "0  I1JLC8  \n",
       "1  Q39821  "
      ]
     },
     "execution_count": 5,
     "metadata": {},
     "output_type": "execute_result"
    }
   ],
   "source": [
    "seq_df.head(2)"
   ]
  },
  {
   "cell_type": "code",
   "execution_count": 6,
   "metadata": {},
   "outputs": [
    {
     "data": {
      "text/html": [
       "<div>\n",
       "<style scoped>\n",
       "    .dataframe tbody tr th:only-of-type {\n",
       "        vertical-align: middle;\n",
       "    }\n",
       "\n",
       "    .dataframe tbody tr th {\n",
       "        vertical-align: top;\n",
       "    }\n",
       "\n",
       "    .dataframe thead th {\n",
       "        text-align: right;\n",
       "    }\n",
       "</style>\n",
       "<table border=\"1\" class=\"dataframe\">\n",
       "  <thead>\n",
       "    <tr style=\"text-align: right;\">\n",
       "      <th></th>\n",
       "      <th>Entry</th>\n",
       "      <th>Entry name</th>\n",
       "      <th>Status</th>\n",
       "      <th>Protein names</th>\n",
       "      <th>Gene names</th>\n",
       "      <th>Organism</th>\n",
       "      <th>Length</th>\n",
       "    </tr>\n",
       "  </thead>\n",
       "  <tbody>\n",
       "    <tr>\n",
       "      <th>0</th>\n",
       "      <td>A2VDL6</td>\n",
       "      <td>AT1A2_BOVIN</td>\n",
       "      <td>reviewed</td>\n",
       "      <td>Sodium/potassium-transporting ATPase subunit a...</td>\n",
       "      <td>ATP1A2</td>\n",
       "      <td>Bos taurus (Bovine)</td>\n",
       "      <td>1020</td>\n",
       "    </tr>\n",
       "    <tr>\n",
       "      <th>1</th>\n",
       "      <td>Q3T0C6</td>\n",
       "      <td>AT1B3_BOVIN</td>\n",
       "      <td>reviewed</td>\n",
       "      <td>Sodium/potassium-transporting ATPase subunit b...</td>\n",
       "      <td>ATP1B3</td>\n",
       "      <td>Bos taurus (Bovine)</td>\n",
       "      <td>279</td>\n",
       "    </tr>\n",
       "  </tbody>\n",
       "</table>\n",
       "</div>"
      ],
      "text/plain": [
       "    Entry   Entry name    Status  \\\n",
       "0  A2VDL6  AT1A2_BOVIN  reviewed   \n",
       "1  Q3T0C6  AT1B3_BOVIN  reviewed   \n",
       "\n",
       "                                       Protein names Gene names  \\\n",
       "0  Sodium/potassium-transporting ATPase subunit a...     ATP1A2   \n",
       "1  Sodium/potassium-transporting ATPase subunit b...     ATP1B3   \n",
       "\n",
       "              Organism  Length  \n",
       "0  Bos taurus (Bovine)    1020  \n",
       "1  Bos taurus (Bovine)     279  "
      ]
     },
     "execution_count": 6,
     "metadata": {},
     "output_type": "execute_result"
    }
   ],
   "source": [
    "excel_df.head(2)"
   ]
  },
  {
   "cell_type": "code",
   "execution_count": 7,
   "metadata": {},
   "outputs": [],
   "source": [
    "non_allergens_df = (pd.merge(seq_df, excel_df, on='Entry')\n",
    "                        .rename({\"Entry\": 'prot_index'}, axis=1)\n",
    "                        .assign(is_allergenic=lambda x: False, \n",
    "                                prot_index=lambda x: x.prot_index.str.lower()))"
   ]
  },
  {
   "cell_type": "code",
   "execution_count": 8,
   "metadata": {},
   "outputs": [],
   "source": [
    "genre_species = non_allergens_df.Organism.str.lower().str.split(expand=True).iloc[:, :2]\n",
    "non_allergens_df.loc[:, 'genre'], non_allergens_df.loc[:, 'species'] = genre_species.iloc[:, 0], genre_species.iloc[:, 1]"
   ]
  },
  {
   "cell_type": "code",
   "execution_count": 9,
   "metadata": {},
   "outputs": [
    {
     "data": {
      "text/html": [
       "<div>\n",
       "<style scoped>\n",
       "    .dataframe tbody tr th:only-of-type {\n",
       "        vertical-align: middle;\n",
       "    }\n",
       "\n",
       "    .dataframe tbody tr th {\n",
       "        vertical-align: top;\n",
       "    }\n",
       "\n",
       "    .dataframe thead th {\n",
       "        text-align: right;\n",
       "    }\n",
       "</style>\n",
       "<table border=\"1\" class=\"dataframe\">\n",
       "  <thead>\n",
       "    <tr style=\"text-align: right;\">\n",
       "      <th></th>\n",
       "      <th>description</th>\n",
       "      <th>idx</th>\n",
       "      <th>name</th>\n",
       "      <th>sequences</th>\n",
       "      <th>prot_index</th>\n",
       "      <th>Entry name</th>\n",
       "      <th>Status</th>\n",
       "      <th>Protein names</th>\n",
       "      <th>Gene names</th>\n",
       "      <th>Organism</th>\n",
       "      <th>Length</th>\n",
       "      <th>is_allergenic</th>\n",
       "      <th>genre</th>\n",
       "      <th>species</th>\n",
       "    </tr>\n",
       "  </thead>\n",
       "  <tbody>\n",
       "    <tr>\n",
       "      <th>4132</th>\n",
       "      <td>sp|Q0P5B1|PEX13_BOVIN Peroxisomal membrane pro...</td>\n",
       "      <td>sp|Q0P5B1|PEX13_BOVIN</td>\n",
       "      <td>sp|Q0P5B1|PEX13_BOVIN</td>\n",
       "      <td>(M, A, S, Q, P, P, P, P, P, K, P, W, E, T, R, ...</td>\n",
       "      <td>q0p5b1</td>\n",
       "      <td>PEX13_BOVIN</td>\n",
       "      <td>reviewed</td>\n",
       "      <td>Peroxisomal membrane protein PEX13 (Peroxin-13)</td>\n",
       "      <td>PEX13</td>\n",
       "      <td>Bos taurus (Bovine)</td>\n",
       "      <td>403</td>\n",
       "      <td>False</td>\n",
       "      <td>bos</td>\n",
       "      <td>taurus</td>\n",
       "    </tr>\n",
       "  </tbody>\n",
       "</table>\n",
       "</div>"
      ],
      "text/plain": [
       "                                            description  \\\n",
       "4132  sp|Q0P5B1|PEX13_BOVIN Peroxisomal membrane pro...   \n",
       "\n",
       "                        idx                   name  \\\n",
       "4132  sp|Q0P5B1|PEX13_BOVIN  sp|Q0P5B1|PEX13_BOVIN   \n",
       "\n",
       "                                              sequences prot_index  \\\n",
       "4132  (M, A, S, Q, P, P, P, P, P, K, P, W, E, T, R, ...     q0p5b1   \n",
       "\n",
       "       Entry name    Status                                    Protein names  \\\n",
       "4132  PEX13_BOVIN  reviewed  Peroxisomal membrane protein PEX13 (Peroxin-13)   \n",
       "\n",
       "     Gene names             Organism  Length  is_allergenic genre species  \n",
       "4132      PEX13  Bos taurus (Bovine)     403          False   bos  taurus  "
      ]
     },
     "execution_count": 9,
     "metadata": {},
     "output_type": "execute_result"
    }
   ],
   "source": [
    "non_allergens_df.sample()"
   ]
  },
  {
   "cell_type": "markdown",
   "metadata": {},
   "source": [
    "## Merging Data"
   ]
  },
  {
   "cell_type": "code",
   "execution_count": 10,
   "metadata": {},
   "outputs": [],
   "source": [
    "COLS_TO_KEEP = ['is_allergenic', 'sequences', 'genre', 'species', 'prot_index']"
   ]
  },
  {
   "cell_type": "code",
   "execution_count": 11,
   "metadata": {},
   "outputs": [],
   "source": [
    "non_allergens_df = non_allergens_df.loc[:, COLS_TO_KEEP]\n",
    "allergens_df = allergens_df.loc[:, COLS_TO_KEEP]\n",
    "\n",
    "df = pd.concat((allergens_df, non_allergens_df), ignore_index=True) \\\n",
    "                .assign(seq_len=lambda x: x.sequences.apply(len))"
   ]
  },
  {
   "cell_type": "code",
   "execution_count": 15,
   "metadata": {},
   "outputs": [
    {
     "data": {
      "text/plain": [
       "0     aaada1\n",
       "1    adlams2\n",
       "2      dlad3\n",
       "Name: val, dtype: object"
      ]
     },
     "execution_count": 15,
     "metadata": {},
     "output_type": "execute_result"
    }
   ],
   "source": [
    "import numpy as np\n",
    "\n",
    "a = pd.DataFrame({\"name\": [1, 2, 3], 'val': [\"aaada\", \"adlams\", 'dlad']})\n",
    "a.val + np.array(['1', '2', '3'])"
   ]
  },
  {
   "cell_type": "code",
   "execution_count": 18,
   "metadata": {},
   "outputs": [],
   "source": [
    "def rename_prot_index(dataf):\n",
    "    if len(dataf) <= 1:\n",
    "        return dataf\n",
    "    else:\n",
    "        renamer = np.array(['_'+str(inte) for inte in range(len(dataf))])\n",
    "        dataf.loc[:, 'prot_index'] = dataf.prot_index + renamer\n",
    "        return dataf\n",
    "\n",
    "df = (df.groupby('prot_index').apply(rename_prot_index).reset_index(drop=True))"
   ]
  },
  {
   "cell_type": "code",
   "execution_count": 22,
   "metadata": {},
   "outputs": [
    {
     "name": "stdout",
     "output_type": "stream",
     "text": [
      "<class 'pandas.core.frame.DataFrame'>\n",
      "RangeIndex: 12649 entries, 0 to 12648\n",
      "Data columns (total 6 columns):\n",
      "is_allergenic    12649 non-null bool\n",
      "sequences        12649 non-null object\n",
      "genre            12647 non-null object\n",
      "species          12644 non-null object\n",
      "prot_index       12649 non-null object\n",
      "seq_len          12649 non-null int64\n",
      "dtypes: bool(1), int64(1), object(4)\n",
      "memory usage: 506.5+ KB\n"
     ]
    }
   ],
   "source": [
    "df.to_csv('/home/pierre/riken/data/riken_data/complete_from_xlsx_v2.tsv', sep='\\t', index=False)\n",
    "df.info()"
   ]
  },
  {
   "cell_type": "code",
   "execution_count": 12,
   "metadata": {},
   "outputs": [
    {
     "name": "stderr",
     "output_type": "stream",
     "text": [
      "/home/pierre/.conda/envs/python3/lib/python3.5/site-packages/Bio/Seq.py:163: BiopythonWarning: Biopython Seq objects now use string comparison. Older versions of Biopython used object comparison. During this transition, please use hash(id(my_seq)) or my_dict[id(my_seq)] if you want the old behaviour, or use hash(str(my_seq)) or my_dict[str(my_seq)] for the new string hashing behaviour.\n",
      "  \"the new string hashing behaviour.\", BiopythonWarning)\n"
     ]
    }
   ],
   "source": [
    "nb_duplicates = df.groupby('sequences').size().to_frame('nb_identical')\n",
    "df = pd.merge(df, nb_duplicates, left_on='sequences', right_index=True)\n",
    "problems = df[df.nb_identical >= 2]"
   ]
  },
  {
   "cell_type": "code",
   "execution_count": 13,
   "metadata": {},
   "outputs": [
    {
     "data": {
      "text/plain": [
       "(12, 7)"
      ]
     },
     "execution_count": 13,
     "metadata": {},
     "output_type": "execute_result"
    }
   ],
   "source": [
    "problems[problems.is_allergenic].shape"
   ]
  },
  {
   "cell_type": "code",
   "execution_count": 55,
   "metadata": {},
   "outputs": [
    {
     "data": {
      "text/plain": [
       "(212, 7)"
      ]
     },
     "execution_count": 55,
     "metadata": {},
     "output_type": "execute_result"
    }
   ],
   "source": [
    "problems[~problems.is_allergenic].shape"
   ]
  },
  {
   "cell_type": "markdown",
   "metadata": {},
   "source": [
    "# OLD - Are Both files the same"
   ]
  },
  {
   "cell_type": "code",
   "execution_count": 46,
   "metadata": {},
   "outputs": [
    {
     "name": "stdout",
     "output_type": "stream",
     "text": [
      "<class 'pandas.core.frame.DataFrame'>\n",
      "RangeIndex: 12851 entries, 0 to 12850\n",
      "Data columns (total 5 columns):\n",
      "is_allergenic    12851 non-null bool\n",
      "sequences        12851 non-null object\n",
      "genre            12849 non-null object\n",
      "species          12846 non-null object\n",
      "seq_len          12851 non-null int64\n",
      "dtypes: bool(1), int64(1), object(3)\n",
      "memory usage: 414.2+ KB\n"
     ]
    }
   ],
   "source": [
    "v1 = pd.read_csv('/home/pierre/riken/data/riken_data/complete_from_xlsx.tsv', sep='\\t')\n",
    "v1.info()"
   ]
  },
  {
   "cell_type": "code",
   "execution_count": 59,
   "metadata": {},
   "outputs": [],
   "source": [
    "# v1 = pd.read_csv('/home/pierre/riken/data/riken_data/complete_from_xlsx.tsv', sep='\\t')\n",
    "# v2 = pd.read_csv('/home/pierre/riken/data/riken_data/complete_from_xlsx_with_index.tsv', sep='\\t')\n",
    "\n",
    "# should_be_eq = ['sequences', 'is_allergenic', 'genre', 'species']\n",
    "\n",
    "# v1_vals = v1[should_be_eq].values\n",
    "# v2_vals = v2[should_be_eq].values\n",
    "\n",
    "# v1_vals = set([str(row) for row in v1_vals])\n",
    "# v2_vals = set([str(row) for row in v2_vals])\n",
    "\n",
    "# assert len(v1_vals.difference(v2_vals)) == 0\n",
    "# assert len(v2_vals.difference(v1_vals)) == 0"
   ]
  },
  {
   "cell_type": "code",
   "execution_count": 75,
   "metadata": {},
   "outputs": [],
   "source": [
    "nb_duplicates = v2.groupby('sequences').size().to_frame('nb_identical')\n",
    "df = pd.merge(v2, nb_duplicates, left_on='sequences', right_index=True)\n",
    "problems = df[df.nb_identical >= 2]"
   ]
  },
  {
   "cell_type": "code",
   "execution_count": 64,
   "metadata": {},
   "outputs": [
    {
     "data": {
      "text/plain": [
       "(2038, 5)"
      ]
     },
     "execution_count": 64,
     "metadata": {},
     "output_type": "execute_result"
    }
   ],
   "source": [
    "v1[v1.is_allergenic].shape"
   ]
  }
 ],
 "metadata": {
  "kernelspec": {
   "display_name": "Python 3",
   "language": "python",
   "name": "python3"
  },
  "language_info": {
   "codemirror_mode": {
    "name": "ipython",
    "version": 3
   },
   "file_extension": ".py",
   "mimetype": "text/x-python",
   "name": "python",
   "nbconvert_exporter": "python",
   "pygments_lexer": "ipython3",
   "version": "3.5.5"
  }
 },
 "nbformat": 4,
 "nbformat_minor": 2
}
