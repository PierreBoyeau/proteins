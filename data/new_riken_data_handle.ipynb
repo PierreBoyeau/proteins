{
 "cells": [
  {
   "cell_type": "code",
   "execution_count": 1,
   "metadata": {},
   "outputs": [],
   "source": [
    "import pandas as pd"
   ]
  },
  {
   "cell_type": "markdown",
   "metadata": {},
   "source": [
    "# Get new labeled PSSMs"
   ]
  },
  {
   "cell_type": "code",
   "execution_count": 2,
   "metadata": {},
   "outputs": [],
   "source": [
    "new_df = (pd.read_csv('/home/pierre/riken/data/riken_data/complete_from_xlsx_v2.tsv', sep='\\t')\n",
    "            .loc[lambda x: x.seq_len >= 50])\n",
    "old_df = (pd.read_csv('/home/pierre/riken/data/riken_data/complete_from_xlsx.tsv', sep='\\t')\n",
    "            .dropna()\n",
    "            .loc[lambda x: x.seq_len >= 50]\n",
    "            .assign(old_index=lambda x: x.index.values))"
   ]
  },
  {
   "cell_type": "code",
   "execution_count": 27,
   "metadata": {},
   "outputs": [],
   "source": [
    "original_fmt = '/home/pierre/riken/data/psiblast/riken_data/{}_pssm.txt'\n",
    "new_format = '/home/pierre/riken/data/psiblast/riken_data_v2/{}_pssm.txt'"
   ]
  },
  {
   "cell_type": "code",
   "execution_count": 28,
   "metadata": {},
   "outputs": [],
   "source": [
    "old_df = old_df[['sequences', 'is_allergenic', 'genre', 'species', 'old_index']]\n",
    "merged = pd.merge(left=new_df, right=old_df, on=['sequences', 'is_allergenic', 'genre', 'species'], how='left')\n",
    "\n",
    "print(new_df.shape)\n",
    "print(merged.shape)\n",
    "\n",
    "merged.info()\n",
    "\n",
    "indexes = merged[['old_index', 'prot_index']].values\n",
    "old_index, prot_index = indexes[:, 0], indexes[:, 1]\n",
    "\n",
    "from shutil import copyfile\n",
    "\n",
    "for old_i, prot_i in zip(old_index, prot_index):\n",
    "    try:\n",
    "        copyfile(original_fmt.format(int(old_i)), new_format.format(prot_i))\n",
    "    except:\n",
    "        print('Issue with ', old_i, prot_i)"
   ]
  },
  {
   "cell_type": "markdown",
   "metadata": {},
   "source": [
    "# New index / Test"
   ]
  },
  {
   "cell_type": "code",
   "execution_count": 3,
   "metadata": {},
   "outputs": [
    {
     "name": "stderr",
     "output_type": "stream",
     "text": [
      "/home/pierre/.conda/envs/python3/lib/python3.5/site-packages/pandas/core/indexing.py:189: SettingWithCopyWarning: \n",
      "A value is trying to be set on a copy of a slice from a DataFrame\n",
      "\n",
      "See the caveats in the documentation: http://pandas.pydata.org/pandas-docs/stable/indexing.html#indexing-view-versus-copy\n",
      "  self._setitem_with_indexer(indexer, value)\n"
     ]
    }
   ],
   "source": [
    "from riken.protein_io.data_op import group_shuffle_indices\n",
    "\n",
    "new_df = (pd.read_csv('/home/pierre/riken/data/riken_data/complete_from_xlsx_v2.tsv', sep='\\t')\n",
    "            .loc[lambda x: x.seq_len >= 50]\n",
    "            .set_index('prot_index')\n",
    "         )\n",
    "\n",
    "old_df = (pd.read_csv('/home/pierre/riken/data/riken_data/complete_from_xlsx.tsv', sep='\\t')\n",
    "            .dropna()\n",
    "            .loc[lambda x: x.seq_len >= 50]\n",
    "            .assign(old_index=lambda x: x.index.values.astype(int)))\n",
    "train_inds, test_inds = group_shuffle_indices(X=old_df.sequences, y=old_df.is_allergenic, groups=old_df.species)\n",
    "old_df.loc[:, 'is_train'] = None\n",
    "old_df.loc[:, 'is_train'].iloc[train_inds] = True\n",
    "old_df.loc[:, 'is_train'].iloc[test_inds] = False"
   ]
  },
  {
   "cell_type": "code",
   "execution_count": 4,
   "metadata": {},
   "outputs": [
    {
     "data": {
      "text/plain": [
       "(11141,)"
      ]
     },
     "execution_count": 4,
     "metadata": {},
     "output_type": "execute_result"
    }
   ],
   "source": [
    "train_inds.shape"
   ]
  },
  {
   "cell_type": "code",
   "execution_count": 5,
   "metadata": {},
   "outputs": [
    {
     "data": {
      "text/plain": [
       "11141"
      ]
     },
     "execution_count": 5,
     "metadata": {},
     "output_type": "execute_result"
    }
   ],
   "source": [
    "old_df.is_train.sum()"
   ]
  },
  {
   "cell_type": "code",
   "execution_count": 6,
   "metadata": {},
   "outputs": [
    {
     "name": "stdout",
     "output_type": "stream",
     "text": [
      "<class 'pandas.core.frame.DataFrame'>\n",
      "Int64Index: 12466 entries, 0 to 12850\n",
      "Data columns (total 7 columns):\n",
      "is_allergenic    12466 non-null bool\n",
      "sequences        12466 non-null object\n",
      "genre            12466 non-null object\n",
      "species          12466 non-null object\n",
      "seq_len          12466 non-null int64\n",
      "old_index        12466 non-null int64\n",
      "is_train         12466 non-null bool\n",
      "dtypes: bool(2), int64(2), object(3)\n",
      "memory usage: 608.7+ KB\n"
     ]
    }
   ],
   "source": [
    "old_df.info()"
   ]
  },
  {
   "cell_type": "code",
   "execution_count": 7,
   "metadata": {},
   "outputs": [
    {
     "name": "stdout",
     "output_type": "stream",
     "text": [
      "<class 'pandas.core.frame.DataFrame'>\n",
      "Index: 12289 entries, 2 to q05187\n",
      "Data columns (total 5 columns):\n",
      "is_allergenic    12289 non-null bool\n",
      "sequences        12289 non-null object\n",
      "genre            12287 non-null object\n",
      "species          12285 non-null object\n",
      "seq_len          12289 non-null int64\n",
      "dtypes: bool(1), int64(1), object(3)\n",
      "memory usage: 492.0+ KB\n"
     ]
    }
   ],
   "source": [
    "new_df.info()"
   ]
  },
  {
   "cell_type": "code",
   "execution_count": 8,
   "metadata": {},
   "outputs": [],
   "source": [
    "old_df = old_df[['sequences', 'is_allergenic', 'genre', 'species', 'old_index', 'is_train']]\n",
    "old_df = old_df.drop_duplicates(['sequences', 'is_allergenic', 'genre', 'species'])\n",
    "merged = new_df.reset_index().merge(right=old_df, \n",
    "#                   left_index=True, \n",
    "#                   on=['sequences', 'is_allergenic', 'genre', 'species'], \n",
    "                  how='left').set_index('prot_index')"
   ]
  },
  {
   "cell_type": "code",
   "execution_count": 91,
   "metadata": {},
   "outputs": [
    {
     "data": {
      "text/html": [
       "<div>\n",
       "<style scoped>\n",
       "    .dataframe tbody tr th:only-of-type {\n",
       "        vertical-align: middle;\n",
       "    }\n",
       "\n",
       "    .dataframe tbody tr th {\n",
       "        vertical-align: top;\n",
       "    }\n",
       "\n",
       "    .dataframe thead th {\n",
       "        text-align: right;\n",
       "    }\n",
       "</style>\n",
       "<table border=\"1\" class=\"dataframe\">\n",
       "  <thead>\n",
       "    <tr style=\"text-align: right;\">\n",
       "      <th></th>\n",
       "      <th>is_allergenic</th>\n",
       "      <th>sequences</th>\n",
       "      <th>genre</th>\n",
       "      <th>species</th>\n",
       "      <th>seq_len</th>\n",
       "      <th>old_index</th>\n",
       "      <th>is_train</th>\n",
       "    </tr>\n",
       "    <tr>\n",
       "      <th>prot_index</th>\n",
       "      <th></th>\n",
       "      <th></th>\n",
       "      <th></th>\n",
       "      <th></th>\n",
       "      <th></th>\n",
       "      <th></th>\n",
       "      <th></th>\n",
       "    </tr>\n",
       "  </thead>\n",
       "  <tbody>\n",
       "  </tbody>\n",
       "</table>\n",
       "</div>"
      ],
      "text/plain": [
       "Empty DataFrame\n",
       "Columns: [is_allergenic, sequences, genre, species, seq_len, old_index, is_train]\n",
       "Index: []"
      ]
     },
     "execution_count": 91,
     "metadata": {},
     "output_type": "execute_result"
    }
   ],
   "source": [
    "merged[merged.index.duplicated()]"
   ]
  },
  {
   "cell_type": "code",
   "execution_count": 95,
   "metadata": {},
   "outputs": [
    {
     "data": {
      "text/html": [
       "<div>\n",
       "<style scoped>\n",
       "    .dataframe tbody tr th:only-of-type {\n",
       "        vertical-align: middle;\n",
       "    }\n",
       "\n",
       "    .dataframe tbody tr th {\n",
       "        vertical-align: top;\n",
       "    }\n",
       "\n",
       "    .dataframe thead th {\n",
       "        text-align: right;\n",
       "    }\n",
       "</style>\n",
       "<table border=\"1\" class=\"dataframe\">\n",
       "  <thead>\n",
       "    <tr style=\"text-align: right;\">\n",
       "      <th></th>\n",
       "      <th>is_allergenic</th>\n",
       "      <th>sequences</th>\n",
       "      <th>genre</th>\n",
       "      <th>species</th>\n",
       "      <th>seq_len</th>\n",
       "      <th>old_index</th>\n",
       "      <th>is_train</th>\n",
       "    </tr>\n",
       "    <tr>\n",
       "      <th>prot_index</th>\n",
       "      <th></th>\n",
       "      <th></th>\n",
       "      <th></th>\n",
       "      <th></th>\n",
       "      <th></th>\n",
       "      <th></th>\n",
       "      <th></th>\n",
       "    </tr>\n",
       "  </thead>\n",
       "  <tbody>\n",
       "    <tr>\n",
       "      <th>2</th>\n",
       "      <td>True</td>\n",
       "      <td>MKFLLVAALCALVAIGSCKPTREEIKTFEQFKKVFGKVYRNAEEEA...</td>\n",
       "      <td>blomia</td>\n",
       "      <td>tropicalis</td>\n",
       "      <td>333</td>\n",
       "      <td>0.0</td>\n",
       "      <td>True</td>\n",
       "    </tr>\n",
       "    <tr>\n",
       "      <th>3</th>\n",
       "      <td>True</td>\n",
       "      <td>EIASQIAQEDQSTCEVSKGDFKTFDRMSFTCSFNKSCNVVVAQDCT...</td>\n",
       "      <td>gallus</td>\n",
       "      <td>gallus</td>\n",
       "      <td>284</td>\n",
       "      <td>1.0</td>\n",
       "      <td>True</td>\n",
       "    </tr>\n",
       "    <tr>\n",
       "      <th>100</th>\n",
       "      <td>True</td>\n",
       "      <td>MSWQTYVDDHLMCEIEGNYLTSAAIIGQDGSIWAQSASFPQFKPEE...</td>\n",
       "      <td>actinidia</td>\n",
       "      <td>deliciosa</td>\n",
       "      <td>109</td>\n",
       "      <td>2.0</td>\n",
       "      <td>False</td>\n",
       "    </tr>\n",
       "    <tr>\n",
       "      <th>caa32835.1</th>\n",
       "      <td>True</td>\n",
       "      <td>MKCLLLALALTCGAQALIVTQTMKGLDIQKVAGTWYSLAMAASDIS...</td>\n",
       "      <td>bos</td>\n",
       "      <td>taurus</td>\n",
       "      <td>178</td>\n",
       "      <td>3.0</td>\n",
       "      <td>True</td>\n",
       "    </tr>\n",
       "    <tr>\n",
       "      <th>caa68720.1</th>\n",
       "      <td>True</td>\n",
       "      <td>MWFLALCLAMSLGWTGAEPHFQPRIIGGRECLKNSQPWQVAVYHNG...</td>\n",
       "      <td>canis</td>\n",
       "      <td>lupus</td>\n",
       "      <td>260</td>\n",
       "      <td>4.0</td>\n",
       "      <td>True</td>\n",
       "    </tr>\n",
       "  </tbody>\n",
       "</table>\n",
       "</div>"
      ],
      "text/plain": [
       "            is_allergenic                                          sequences  \\\n",
       "prot_index                                                                     \n",
       "2                    True  MKFLLVAALCALVAIGSCKPTREEIKTFEQFKKVFGKVYRNAEEEA...   \n",
       "3                    True  EIASQIAQEDQSTCEVSKGDFKTFDRMSFTCSFNKSCNVVVAQDCT...   \n",
       "100                  True  MSWQTYVDDHLMCEIEGNYLTSAAIIGQDGSIWAQSASFPQFKPEE...   \n",
       "caa32835.1           True  MKCLLLALALTCGAQALIVTQTMKGLDIQKVAGTWYSLAMAASDIS...   \n",
       "caa68720.1           True  MWFLALCLAMSLGWTGAEPHFQPRIIGGRECLKNSQPWQVAVYHNG...   \n",
       "\n",
       "                genre     species  seq_len  old_index is_train  \n",
       "prot_index                                                      \n",
       "2              blomia  tropicalis      333        0.0     True  \n",
       "3              gallus      gallus      284        1.0     True  \n",
       "100         actinidia   deliciosa      109        2.0    False  \n",
       "caa32835.1        bos      taurus      178        3.0     True  \n",
       "caa68720.1      canis       lupus      260        4.0     True  "
      ]
     },
     "execution_count": 95,
     "metadata": {},
     "output_type": "execute_result"
    }
   ],
   "source": [
    "merged.head()"
   ]
  },
  {
   "cell_type": "code",
   "execution_count": 94,
   "metadata": {},
   "outputs": [],
   "source": [
    "merged.to_csv('/home/pierre/riken/data/riken_data/complete_from_xlsx_v2COMPLETE.tsv', sep='\\t')"
   ]
  },
  {
   "cell_type": "code",
   "execution_count": null,
   "metadata": {},
   "outputs": [],
   "source": []
  }
 ],
 "metadata": {
  "kernelspec": {
   "display_name": "Python 3",
   "language": "python",
   "name": "python3"
  },
  "language_info": {
   "codemirror_mode": {
    "name": "ipython",
    "version": 3
   },
   "file_extension": ".py",
   "mimetype": "text/x-python",
   "name": "python",
   "nbconvert_exporter": "python",
   "pygments_lexer": "ipython3",
   "version": "3.5.5"
  }
 },
 "nbformat": 4,
 "nbformat_minor": 2
}
