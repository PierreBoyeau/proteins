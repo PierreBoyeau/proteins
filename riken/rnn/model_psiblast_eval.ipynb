{
 "cells": [
  {
   "cell_type": "markdown",
   "metadata": {},
   "source": [
    "# Model evaluation"
   ]
  },
  {
   "cell_type": "markdown",
   "metadata": {},
   "source": [
    "This notebook has 2 purposes\n",
    "- Display ROC AUC curves\n",
    "- Visualize and save attention weights\n",
    "\n",
    "\n",
    "For this notebook to be useful, you should have a keras model weights somewhere. To have such a model, you can use `rnn_keras_with_psiblast.py`. The weights of the model will be located in the `-log_dir` you specify"
   ]
  },
  {
   "cell_type": "markdown",
   "metadata": {},
   "source": [
    "# Load Data and Trained Model"
   ]
  },
  {
   "cell_type": "code",
   "execution_count": 1,
   "metadata": {},
   "outputs": [
    {
     "name": "stderr",
     "output_type": "stream",
     "text": [
      "Using TensorFlow backend.\n"
     ]
    }
   ],
   "source": [
    "from riken.rnn.rnn_keras_with_psiblast import *\n",
    "from sklearn.metrics import roc_auc_score\n",
    "import seaborn as sns\n",
    "import matplotlib.pyplot as plt\n",
    "from riken.viz_utils import visualize_attention, to_2d_array, visualize_attention_2d\n",
    "from riken.protein_io.prot_features import idx_to_char\n",
    "from keras.models import Model\n",
    "from riken.word2vec.classification_tools import roc_score\n",
    "\n",
    "from tqdm import tqdm\n",
    "\n",
    "\n",
    "RANDOM_STATE = 42\n",
    "MAXLEN = 1000\n",
    "DATA_PATH = \"/home/pierre/riken/data/riken_data/complete_from_xlsx_v2COMPLETE.tsv\"\n",
    "KEY_TO_PREDICT = \"is_allergenic\"\n",
    "LOG_DIR = \"/home/pierre/riken/riken/rnn/logs/riken_data_psiblast/logs_riken_data_psiblast_1_transfer\"\n",
    "TRANSFER_PATH = None\n",
    "SPLITTER = data_op.group_shuffle_indices\n",
    "PSSM_FORMAT_FILE = \"/home/pierre/riken/data/psiblast/riken_data_v2/{}_pssm.txt\""
   ]
  },
  {
   "cell_type": "code",
   "execution_count": 2,
   "metadata": {
    "scrolled": true
   },
   "outputs": [
    {
     "name": "stderr",
     "output_type": "stream",
     "text": [
      "  0%|          | 0/12285 [00:00<?, ?it/s]/home/pierre/riken/riken/protein_io/reader.py:21: ParserWarning: Falling back to the 'python' engine because the 'c' engine does not support skipfooter; you can avoid this warning by specifying engine='python'.\n",
      "  pssm_df = pd.read_csv(path_to_pssm, sep=' ', skiprows=2, skipfooter=6, skipinitialspace=True) \\\n",
      "  3%|▎         | 373/12285 [00:05<03:04, 64.48it/s]"
     ]
    },
    {
     "name": "stdout",
     "output_type": "stream",
     "text": [
      "[Errno 2] No such file or directory: '/home/pierre/riken/data/psiblast/riken_data_v2/baa04558.1_pssm.txt'\n",
      "Error!\n"
     ]
    },
    {
     "name": "stderr",
     "output_type": "stream",
     "text": [
      "  4%|▍         | 543/12285 [00:08<03:03, 64.14it/s]"
     ]
    },
    {
     "name": "stdout",
     "output_type": "stream",
     "text": [
      "[Errno 2] No such file or directory: '/home/pierre/riken/data/psiblast/riken_data_v2/caa09885.1_pssm.txt'\n",
      "Error!\n"
     ]
    },
    {
     "name": "stderr",
     "output_type": "stream",
     "text": [
      "  5%|▍         | 556/12285 [00:08<03:03, 64.04it/s]"
     ]
    },
    {
     "name": "stdout",
     "output_type": "stream",
     "text": [
      "[Errno 2] No such file or directory: '/home/pierre/riken/data/psiblast/riken_data_v2/cab39376.1_pssm.txt'\n",
      "Error!\n"
     ]
    },
    {
     "name": "stderr",
     "output_type": "stream",
     "text": [
      "  5%|▌         | 636/12285 [00:10<03:03, 63.39it/s]"
     ]
    },
    {
     "name": "stdout",
     "output_type": "stream",
     "text": [
      "[Errno 2] No such file or directory: '/home/pierre/riken/data/psiblast/riken_data_v2/caa09886.2_pssm.txt'\n",
      "Error!\n"
     ]
    },
    {
     "name": "stderr",
     "output_type": "stream",
     "text": [
      "  6%|▋         | 775/12285 [00:12<03:06, 61.71it/s]"
     ]
    },
    {
     "name": "stdout",
     "output_type": "stream",
     "text": [
      "[Errno 2] No such file or directory: '/home/pierre/riken/data/psiblast/riken_data_v2/caa09887.4_pssm.txt'\n",
      "Error!\n"
     ]
    },
    {
     "name": "stderr",
     "output_type": "stream",
     "text": [
      "  6%|▋         | 795/12285 [00:12<03:06, 61.47it/s]"
     ]
    },
    {
     "name": "stdout",
     "output_type": "stream",
     "text": [
      "[Errno 2] No such file or directory: '/home/pierre/riken/data/psiblast/riken_data_v2/aam55492.1_pssm.txt'\n",
      "Error!\n"
     ]
    },
    {
     "name": "stderr",
     "output_type": "stream",
     "text": [
      "  8%|▊         | 937/12285 [00:15<03:06, 60.80it/s]"
     ]
    },
    {
     "name": "stdout",
     "output_type": "stream",
     "text": [
      "[Errno 2] No such file or directory: '/home/pierre/riken/data/psiblast/riken_data_v2/aap94213.1_pssm.txt'\n",
      "Error!\n"
     ]
    },
    {
     "name": "stderr",
     "output_type": "stream",
     "text": [
      "  9%|▉         | 1124/12285 [00:18<03:05, 60.32it/s]"
     ]
    },
    {
     "name": "stdout",
     "output_type": "stream",
     "text": [
      "[Errno 2] No such file or directory: '/home/pierre/riken/data/psiblast/riken_data_v2/cai64398.1_pssm.txt'\n",
      "Error!\n"
     ]
    },
    {
     "name": "stderr",
     "output_type": "stream",
     "text": [
      " 10%|█         | 1285/12285 [00:21<03:04, 59.47it/s]"
     ]
    },
    {
     "name": "stdout",
     "output_type": "stream",
     "text": [
      "[Errno 2] No such file or directory: '/home/pierre/riken/data/psiblast/riken_data_v2/abl77410.1_pssm.txt'\n",
      "Error!\n"
     ]
    },
    {
     "name": "stderr",
     "output_type": "stream",
     "text": [
      " 12%|█▏        | 1437/12285 [00:24<03:02, 59.48it/s]"
     ]
    },
    {
     "name": "stdout",
     "output_type": "stream",
     "text": [
      "[Errno 2] No such file or directory: '/home/pierre/riken/data/psiblast/riken_data_v2/acb46292.1_pssm.txt'\n",
      "Error!\n"
     ]
    },
    {
     "name": "stderr",
     "output_type": "stream",
     "text": [
      " 12%|█▏        | 1490/12285 [00:25<03:02, 59.30it/s]"
     ]
    },
    {
     "name": "stdout",
     "output_type": "stream",
     "text": [
      "[Errno 2] No such file or directory: '/home/pierre/riken/data/psiblast/riken_data_v2/car82266.1_pssm.txt'\n",
      "Error!\n"
     ]
    },
    {
     "name": "stderr",
     "output_type": "stream",
     "text": [
      " 13%|█▎        | 1556/12285 [00:26<03:00, 59.39it/s]"
     ]
    },
    {
     "name": "stdout",
     "output_type": "stream",
     "text": [
      "[Errno 2] No such file or directory: '/home/pierre/riken/data/psiblast/riken_data_v2/act37324.1_pssm.txt'\n",
      "Error!\n"
     ]
    },
    {
     "name": "stderr",
     "output_type": "stream",
     "text": [
      " 13%|█▎        | 1571/12285 [00:26<03:00, 59.42it/s]"
     ]
    },
    {
     "name": "stdout",
     "output_type": "stream",
     "text": [
      "[Errno 2] No such file or directory: '/home/pierre/riken/data/psiblast/riken_data_v2/acz95445.1_pssm.txt'\n",
      "Error!\n"
     ]
    },
    {
     "name": "stderr",
     "output_type": "stream",
     "text": [
      " 14%|█▍        | 1694/12285 [00:28<02:58, 59.38it/s]"
     ]
    },
    {
     "name": "stdout",
     "output_type": "stream",
     "text": [
      "[Errno 2] No such file or directory: '/home/pierre/riken/data/psiblast/riken_data_v2/baj78221.1_pssm.txt'\n",
      "Error!\n",
      "[Errno 2] No such file or directory: '/home/pierre/riken/data/psiblast/riken_data_v2/baj78222.1_pssm.txt'\n",
      "Error!\n",
      "[Errno 2] No such file or directory: '/home/pierre/riken/data/psiblast/riken_data_v2/baj78223.1_pssm.txt'\n",
      "Error!\n",
      "[Errno 2] No such file or directory: '/home/pierre/riken/data/psiblast/riken_data_v2/aee98392.1_pssm.txt'\n",
      "Error!\n"
     ]
    },
    {
     "name": "stderr",
     "output_type": "stream",
     "text": [
      " 14%|█▍        | 1778/12285 [00:29<02:56, 59.48it/s]"
     ]
    },
    {
     "name": "stdout",
     "output_type": "stream",
     "text": [
      "[Errno 2] No such file or directory: '/home/pierre/riken/data/psiblast/riken_data_v2/agc60026.1_pssm.txt'\n",
      "Error!\n",
      "[Errno 2] No such file or directory: '/home/pierre/riken/data/psiblast/riken_data_v2/agc60027.1_pssm.txt'\n",
      "Error!\n",
      "[Errno 2] No such file or directory: '/home/pierre/riken/data/psiblast/riken_data_v2/agc60028.1_pssm.txt'\n",
      "Error!\n",
      "[Errno 2] No such file or directory: '/home/pierre/riken/data/psiblast/riken_data_v2/agc60029.1_pssm.txt'\n",
      "Error!\n",
      "[Errno 2] No such file or directory: '/home/pierre/riken/data/psiblast/riken_data_v2/agc60030.1_pssm.txt'\n",
      "Error!\n",
      "[Errno 2] No such file or directory: '/home/pierre/riken/data/psiblast/riken_data_v2/agc60031.1_pssm.txt'\n",
      "Error!\n",
      "[Errno 2] No such file or directory: '/home/pierre/riken/data/psiblast/riken_data_v2/ccu99206.1_pssm.txt'\n",
      "Error!\n"
     ]
    },
    {
     "name": "stderr",
     "output_type": "stream",
     "text": [
      " 15%|█▌        | 1873/12285 [00:31<02:54, 59.57it/s]"
     ]
    },
    {
     "name": "stdout",
     "output_type": "stream",
     "text": [
      "[Errno 2] No such file or directory: '/home/pierre/riken/data/psiblast/riken_data_v2/akj77990.1_pssm.txt'\n",
      "Error!\n",
      "[Errno 2] No such file or directory: '/home/pierre/riken/data/psiblast/riken_data_v2/bat62430.1_pssm.txt'\n",
      "Error!\n"
     ]
    },
    {
     "name": "stderr",
     "output_type": "stream",
     "text": [
      " 15%|█▌        | 1895/12285 [00:31<02:54, 59.60it/s]"
     ]
    },
    {
     "name": "stdout",
     "output_type": "stream",
     "text": [
      "[Errno 2] No such file or directory: '/home/pierre/riken/data/psiblast/riken_data_v2/4zce_a_pssm.txt'\n",
      "Error!\n"
     ]
    },
    {
     "name": "stderr",
     "output_type": "stream",
     "text": [
      "100%|██████████| 12285/12285 [04:22<00:00, 46.77it/s]\n"
     ]
    },
    {
     "name": "stdout",
     "output_type": "stream",
     "text": [
      "(12285, 1000)\n",
      "(12285, 2)\n",
      "(12285, 1000, 42)\n",
      "12285 examples\n",
      "[]\n",
      "(11061,) (1224,)\n",
      "[[ 0.    0.    0.   ...  0.    0.    0.  ]\n",
      " [ 0.    0.    0.   ...  0.    0.    0.  ]\n",
      " [ 0.    0.    0.   ...  0.    0.    0.  ]\n",
      " ...\n",
      " [ 3.   -4.   -4.   ...  0.    1.62  0.36]\n",
      " [-2.   -1.   -2.   ... 15.    0.33  0.16]\n",
      " [-3.   -4.   -5.   ... 40.    0.85  0.28]]\n",
      "[[ 0.    0.    0.   ...  0.    0.    0.  ]\n",
      " [ 0.    0.    0.   ...  0.    0.    0.  ]\n",
      " [ 0.    0.    0.   ...  0.    0.    0.  ]\n",
      " ...\n",
      " [-1.   -2.    2.   ...  0.    0.55  0.14]\n",
      " [-2.   -1.    1.   ...  0.    0.98  0.23]\n",
      " [-2.   -2.   -3.   ...  0.    1.9   0.2 ]]\n"
     ]
    }
   ],
   "source": [
    "df = pd.read_csv(DATA_PATH, sep='\\t', index_col=0).dropna()\n",
    "df = df.loc[df.seq_len >= 50, :]\n",
    "\n",
    "sequences, y = df['sequences'].values, df[KEY_TO_PREDICT]\n",
    "y = pd.get_dummies(y).values\n",
    "X = pad_sequences([[prot_features.safe_char_to_idx(char) for char in sequence]\n",
    "                   for sequence in sequences], maxlen=MAXLEN)\n",
    "indices = df.index.values\n",
    "\n",
    "# Get train test indices before getting all features (potentially less\n",
    "# FOR CONSISTENCY PURPOSES\n",
    "\n",
    "# groups = None if GROUPS is None else df[GROUPS].values\n",
    "# train_inds, test_inds = SPLITTER(sequences, y, groups)\n",
    "\n",
    "train_inds, test_inds = np.where(df.is_train)[0], np.where(df.is_train==False)[0]\n",
    "\n",
    "X, pssm, y = get_all_features(X, y, indices, pssm_format_fi=PSSM_FORMAT_FILE, maxlen=MAXLEN)\n",
    "\n",
    "def convert_indices(old_to_new_dic, indices):\n",
    "    res_ind = []\n",
    "    for ind in indices:\n",
    "        if ind in old_to_new_dic:\n",
    "            res_ind.append(old_to_new_dic[ind])\n",
    "    return np.array(res_ind)\n",
    "\n",
    "print(np.intersect1d(train_inds, test_inds))\n",
    "assert len(np.intersect1d(train_inds, test_inds)) == 0\n",
    "print(train_inds.shape, test_inds.shape)\n",
    "Xtrain, Xtest, ytrain, ytest = X[train_inds], X[test_inds], y[train_inds], y[test_inds]\n",
    "pssm_train, pssm_test = pssm[train_inds], pssm[test_inds]\n",
    "\n",
    "print(pssm_train[0])\n",
    "print(pssm_test[0])"
   ]
  },
  {
   "cell_type": "code",
   "execution_count": 3,
   "metadata": {},
   "outputs": [],
   "source": [
    "train_protein_names, test_protein_names = indices[train_inds], indices[test_inds]"
   ]
  },
  {
   "cell_type": "code",
   "execution_count": null,
   "metadata": {},
   "outputs": [],
   "source": [
    "K.clear_session()"
   ]
  },
  {
   "cell_type": "markdown",
   "metadata": {},
   "source": [
    "In following cell, please replace `WEIGHTS_PATH` by the path to your model weights"
   ]
  },
  {
   "cell_type": "code",
   "execution_count": 4,
   "metadata": {},
   "outputs": [
    {
     "name": "stderr",
     "output_type": "stream",
     "text": [
      "/usr/local/lib/python3.5/dist-packages/pandas/core/indexing.py:362: SettingWithCopyWarning: \n",
      "A value is trying to be set on a copy of a slice from a DataFrame.\n",
      "Try using .loc[row_indexer,col_indexer] = value instead\n",
      "\n",
      "See the caveats in the documentation: http://pandas.pydata.org/pandas-docs/stable/indexing.html#indexing-view-versus-copy\n",
      "  self.obj[key] = _infer_fill_value(value)\n",
      "/usr/local/lib/python3.5/dist-packages/pandas/core/indexing.py:543: SettingWithCopyWarning: \n",
      "A value is trying to be set on a copy of a slice from a DataFrame.\n",
      "Try using .loc[row_indexer,col_indexer] = value instead\n",
      "\n",
      "See the caveats in the documentation: http://pandas.pydata.org/pandas-docs/stable/indexing.html#indexing-view-versus-copy\n",
      "  self.obj[item] = s\n"
     ]
    }
   ],
   "source": [
    "from keras.models import load_model\n",
    "\n",
    "WEIGHTS_PATH = 'logs/riken_data_psiblast/logs_riken_new_softhard_50_no_transfer/weights.13-0.43.hdf5'\n",
    "mdl = load_model(WEIGHTS_PATH)\n",
    "ypred = mdl.predict([Xtest, pssm_test])\n",
    "\n",
    "test_df = df.iloc[test_inds]\n",
    "test_df.loc[:, 'y_pred'] = ypred[:, 1]"
   ]
  },
  {
   "cell_type": "code",
   "execution_count": 5,
   "metadata": {},
   "outputs": [
    {
     "name": "stdout",
     "output_type": "stream",
     "text": [
      "0.9257104742003937\n"
     ]
    },
    {
     "data": {
      "text/plain": [
       "(<Figure size 432x288 with 1 Axes>,\n",
       " <matplotlib.axes._subplots.AxesSubplot at 0x7fcbc17b9dd8>)"
      ]
     },
     "execution_count": 5,
     "metadata": {},
     "output_type": "execute_result"
    },
    {
     "data": {
      "image/png": "[encoded data removed]",
      "text/plain": [
       "<Figure size 432x288 with 1 Axes>"
      ]
     },
     "metadata": {
      "needs_background": "light"
     },
     "output_type": "display_data"
    }
   ],
   "source": [
    "print(roc_auc_score(test_df.is_allergenic, test_df.y_pred))\n",
    "roc_score(ytest[:, 1], ypred[:, 1])"
   ]
  },
  {
   "cell_type": "code",
   "execution_count": 6,
   "metadata": {},
   "outputs": [
    {
     "name": "stdout",
     "output_type": "stream",
     "text": [
      "__________________________________________________________________________________________________\n",
      "Layer (type)                    Output Shape         Param #     Connected to                     \n",
      "==================================================================================================\n",
      "aa_indice (InputLayer)          (None, 1000)         0                                            \n",
      "__________________________________________________________________________________________________\n",
      "embedding_1 (Embedding)         (None, 1000, 25)     625         aa_indice[0][0]                  \n",
      "__________________________________________________________________________________________________\n",
      "embedding_2 (Embedding)         (None, 1000, 42)     1050        aa_indice[0][0]                  \n",
      "__________________________________________________________________________________________________\n",
      "concatenate_1 (Concatenate)     (None, 1000, 67)     0           embedding_1[0][0]                \n",
      "                                                                 embedding_2[0][0]                \n",
      "__________________________________________________________________________________________________\n",
      "psiblast_prop (InputLayer)      (None, 1000, 42)     0                                            \n",
      "__________________________________________________________________________________________________\n",
      "concatenate_2 (Concatenate)     (None, 1000, 109)    0           concatenate_1[0][0]              \n",
      "                                                                 psiblast_prop[0][0]              \n",
      "__________________________________________________________________________________________________\n",
      "conv1d_1 (Conv1D)               (None, 1000, 79)     43134       concatenate_2[0][0]              \n",
      "__________________________________________________________________________________________________\n",
      "dropout_1 (Dropout)             (None, 1000, 79)     0           conv1d_1[0][0]                   \n",
      "__________________________________________________________________________________________________\n",
      "bidirectional_1 (Bidirectional) (None, 1000, 50)     21200       dropout_1[0][0]                  \n",
      "__________________________________________________________________________________________________\n",
      "dense_1 (Dense)                 (None, 1000, 1)      51          bidirectional_1[0][0]            \n",
      "__________________________________________________________________________________________________\n",
      "lambda_1 (Lambda)               (None, 1000)         0           dense_1[0][0]                    \n",
      "__________________________________________________________________________________________________\n",
      "lambda_2 (Lambda)               (None, 1000)         0           lambda_1[0][0]                   \n",
      "__________________________________________________________________________________________________\n",
      "lambda_3 (Lambda)               (None, 1000)         0           lambda_2[0][0]                   \n",
      "__________________________________________________________________________________________________\n",
      "lambda_4 (Lambda)               (None, 1000)         0           lambda_3[0][0]                   \n",
      "__________________________________________________________________________________________________\n",
      "repeat_vector_1 (RepeatVector)  (None, 50, 1000)     0           lambda_4[0][0]                   \n",
      "__________________________________________________________________________________________________\n",
      "permute_1 (Permute)             (None, 1000, 50)     0           repeat_vector_1[0][0]            \n",
      "__________________________________________________________________________________________________\n",
      "multiply_1 (Multiply)           (None, 1000, 50)     0           permute_1[0][0]                  \n",
      "                                                                 bidirectional_1[0][0]            \n",
      "__________________________________________________________________________________________________\n",
      "lambda_5 (Lambda)               (None, 50)           0           multiply_1[0][0]                 \n",
      "__________________________________________________________________________________________________\n",
      "dense_2 (Dense)                 (None, 2)            102         lambda_5[0][0]                   \n",
      "==================================================================================================\n",
      "Total params: 66,162\n",
      "Trainable params: 64,487\n",
      "Non-trainable params: 1,675\n",
      "__________________________________________________________________________________________________\n"
     ]
    }
   ],
   "source": [
    "mdl.summary()"
   ]
  },
  {
   "cell_type": "markdown",
   "metadata": {},
   "source": [
    "In following cell, please replace value `name` by the layer where your attention weights are computed."
   ]
  },
  {
   "cell_type": "code",
   "execution_count": 7,
   "metadata": {},
   "outputs": [],
   "source": [
    "# attention = mdl.get_layer(name='activation_1').output\n",
    "attention = mdl.get_layer(name='lambda_2').output\n",
    "attention_model = Model(inputs=mdl.inputs, outputs=attention)"
   ]
  },
  {
   "cell_type": "code",
   "execution_count": 8,
   "metadata": {},
   "outputs": [],
   "source": [
    "# seqs, pssms = Xtest, pssm_test\n",
    "# atts = attention_model.predict([seqs, pssms])\n",
    "# seqs_str = [[idx_to_char[idce] for idce in seq] for seq in seqs]\n",
    "# ypred = mdl.predict([seqs, pssms])[:, 1]\n",
    "# ytrue = ytest[:, 1]\n",
    "\n",
    "seqs, pssms = X, pssm\n",
    "atts = attention_model.predict([seqs, pssms])\n",
    "seqs_str = [[idx_to_char[idce] for idce in seq] for seq in seqs]\n",
    "ypred = mdl.predict([seqs, pssms])[:, 1]\n",
    "ytrue = ytest[:, 1]"
   ]
  },
  {
   "cell_type": "code",
   "execution_count": null,
   "metadata": {},
   "outputs": [],
   "source": []
  },
  {
   "cell_type": "code",
   "execution_count": 9,
   "metadata": {},
   "outputs": [
    {
     "data": {
      "text/plain": [
       "(12285, 1000)"
      ]
     },
     "execution_count": 9,
     "metadata": {},
     "output_type": "execute_result"
    }
   ],
   "source": [
    "atts.shape"
   ]
  },
  {
   "cell_type": "markdown",
   "metadata": {},
   "source": [
    "# Save all attention viz"
   ]
  },
  {
   "cell_type": "code",
   "execution_count": null,
   "metadata": {},
   "outputs": [],
   "source": [
    "import os\n",
    "def save_attentions(attentions, characters, y_true, y_pred, protein_names, dire):\n",
    "    for indice, name in enumerate(tqdm(protein_names)):\n",
    "        seq = characters[indice]\n",
    "        first_non_null = [ind for ind in range(len(seq)) if seq[ind]!=''][0]\n",
    "        seq = seq[first_non_null:]\n",
    "        att = atts[indice][first_non_null:]\n",
    "        assert(len(att)==len(seq))\n",
    "        fig = plt.figure()\n",
    "        ax = visualize_attention_2d(seq, att, ncols=20)\n",
    "        fig.suptitle('protein name: {name}; allergen: {is_allergen}; predicted score: {score}'\n",
    "                .format(name=name, is_allergen=y_true[indice], score=y_pred[indice]))\n",
    "        fig.savefig(os.path.join(dire, '{}_attention.png'.format(name)))\n",
    "        plt.close()\n",
    "        "
   ]
  },
  {
   "cell_type": "code",
   "execution_count": null,
   "metadata": {},
   "outputs": [],
   "source": [
    "# save_attentions(atts, seqs_str, ytrue, ypred, test_protein_names, 'train_attentions')"
   ]
  },
  {
   "cell_type": "markdown",
   "metadata": {},
   "source": [
    "# Experiments"
   ]
  },
  {
   "cell_type": "markdown",
   "metadata": {},
   "source": [
    "## Quantitative approach"
   ]
  },
  {
   "cell_type": "code",
   "execution_count": null,
   "metadata": {},
   "outputs": [],
   "source": [
    "df.loc[:, 'y_pred'] = mdl.predict([X, pssm])[:, 1]"
   ]
  },
  {
   "cell_type": "code",
   "execution_count": null,
   "metadata": {},
   "outputs": [],
   "source": [
    "from riken.protein_io.reader import get_epitopes_masks, read_epitopes_data\n",
    "\n",
    "epitopes_df = read_epitopes_data()\n",
    "masks = get_epitopes_masks(df, epitopes_df)\n",
    "masks_values = masks.loc[:, 'mask'].values\n",
    "masks_values = pad_sequences(masks_values, maxlen=MAXLEN).astype(np.float32)"
   ]
  },
  {
   "cell_type": "code",
   "execution_count": null,
   "metadata": {},
   "outputs": [],
   "source": [
    "masks_values[masks_values <= 0.01] = 0.0"
   ]
  },
  {
   "cell_type": "code",
   "execution_count": null,
   "metadata": {},
   "outputs": [],
   "source": [
    "# atts_norm = (atts - atts.mean(axis=1).reshape((-1, 1))) / atts.std(axis=1).reshape((-1, 1))\n",
    "\n",
    "df.loc[:, 'pos'] = np.arange(len(df))\n",
    "att_positions = df.loc[masks.original_index, 'pos']\n",
    "len_values = [len(elem) for elem in sequences[att_positions]]\n",
    "seq_values = df.loc[masks.original_index, 'sequences']\n",
    "atts_values = atts[att_positions]\n",
    "\n",
    "index_values = att_positions.index.values\n",
    "is_train_values = df.loc[masks.original_index, 'is_train'] \n",
    "pred_values = df.loc[masks.original_index, 'y_pred']\n",
    "\n",
    "\n",
    "\n",
    "# for idx in range(len(atts_values)):\n",
    "#     # Norm\n",
    "# #     atts_values[idx] = (atts_values[idx] - atts_values[idx,-len_values[idx]:].mean()) \\\n",
    "# #                             / atts_values[idx,-len_values[idx]:].std()\n",
    "    \n",
    "#     # Norm on pertinent characters\n",
    "#     atts_values[idx] = atts_values[idx] / atts_values[idx,-len_values[idx]:].sum()"
   ]
  },
  {
   "cell_type": "code",
   "execution_count": null,
   "metadata": {},
   "outputs": [],
   "source": [
    "# atts_values[atts_values <= 0.5] = 0.0"
   ]
  },
  {
   "cell_type": "code",
   "execution_count": null,
   "metadata": {},
   "outputs": [],
   "source": [
    "(atts_values*masks_values).mean()"
   ]
  },
  {
   "cell_type": "code",
   "execution_count": null,
   "metadata": {},
   "outputs": [],
   "source": [
    "means = []\n",
    "for _ in range(5000):\n",
    "    random_policy = np.random.random(masks_values.shape)\n",
    "#     random_policy = (random_policy - random_policy.mean(axis=1).reshape((-1, 1))) / random_policy.std(axis=1).reshape((-1, 1))\n",
    "#     \n",
    "    for idx in range(len(masks_values)):\n",
    "    # Norm\n",
    "    #     atts_values[idx] = (atts_values[idx] - atts_values[idx,-len_values[idx]:].mean()) \\\n",
    "    #                             / atts_values[idx,-len_values[idx]:].std()\n",
    "\n",
    "        # Norm on pertinent characters\n",
    "        random_policy[idx] = random_policy[idx] / random_policy[idx,-len_values[idx]:].sum()\n",
    "    \n",
    "    means.append((masks_values*random_policy).mean())\n",
    "    \n",
    "    \n",
    "print(np.mean(means))"
   ]
  },
  {
   "cell_type": "code",
   "execution_count": null,
   "metadata": {},
   "outputs": [],
   "source": [
    "def comparative_plot(seq, attention, mask):\n",
    "#     attention_zone = np.log(attention[-len(seq):])\n",
    "    attention_zone = attention[-len(seq):]\n",
    "    mask_zone = mask[-len(seq):]\n",
    "    fig, axes = plt.subplots(ncols=2, figsize=(10, 6))\n",
    "    plt.figure()\n",
    "    visualize_attention_2d(seq, attention_zone, 20, ax=axes[0])    \n",
    "    # IDEA 1\n",
    "    visualize_attention_2d(seq, mask_zone, 20, ax=axes[1])\n",
    "    return fig, axes"
   ]
  },
  {
   "cell_type": "code",
   "execution_count": null,
   "metadata": {},
   "outputs": [],
   "source": [
    "atts_values_thres = atts_values.copy()\n",
    "atts_values_thres[atts_values_thres <= 0.0] = 0.0"
   ]
  },
  {
   "cell_type": "code",
   "execution_count": null,
   "metadata": {
    "scrolled": false
   },
   "outputs": [],
   "source": [
    "for seq_v, att_v, mask_v, index_v, score_v in zip(seq_values, \n",
    "                                                  atts_values_thres, \n",
    "                                                  masks_values, \n",
    "                                                  index_values, \n",
    "                                                  pred_values):\n",
    "    try:\n",
    "        fig, axes = comparative_plot(seq_v, att_v, mask_v)\n",
    "        fig.suptitle('Protein: {}\\n Allergen score: {}'.format(index_v, score_v))\n",
    "        \n",
    "    except error as e:\n",
    "        print(e)\n",
    "        print(len(seq_v), len(att_v), len(mask_v))\n",
    "        pass"
   ]
  },
  {
   "cell_type": "markdown",
   "metadata": {},
   "source": [
    "# Same with direct extractions of epitopes"
   ]
  }
 ],
 "metadata": {
  "kernelspec": {
   "display_name": "Python 3",
   "language": "python",
   "name": "python3"
  },
  "language_info": {
   "codemirror_mode": {
    "name": "ipython",
    "version": 3
   },
   "file_extension": ".py",
   "mimetype": "text/x-python",
   "name": "python",
   "nbconvert_exporter": "python",
   "pygments_lexer": "ipython3",
   "version": "3.5.2"
  }
 },
 "nbformat": 4,
 "nbformat_minor": 2
}
