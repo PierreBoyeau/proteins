{
 "cells": [
  {
   "cell_type": "code",
   "execution_count": 1,
   "metadata": {},
   "outputs": [
    {
     "name": "stderr",
     "output_type": "stream",
     "text": [
      "Using TensorFlow backend.\n"
     ]
    }
   ],
   "source": [
    "from riken.rnn.rnn_keras_with_psiblast import *\n",
    "\n",
    "RANDOM_STATE = 42\n",
    "MAXLEN = 500\n",
    "DATA_PATH = \"/home/pierre/riken/data/riken_data/complete_from_xlsx.tsv\"\n",
    "KEY_TO_PREDICT = \"is_allergenic\"\n",
    "LOG_DIR = \"/home/pierre/riken/riken/rnn/logs/riken_data_psiblast/logs_riken_data_psiblast_1_transfer\"\n",
    "TRANSFER_PATH = None\n",
    "GROUPS = \"species\"\n",
    "SPLITTER = data_op.group_shuffle_indices\n",
    "PSSM_FORMAT_FILE = \"/home/pierre/psiblast/riken_data/{}_pssm.txt\""
   ]
  },
  {
   "cell_type": "code",
   "execution_count": 2,
   "metadata": {},
   "outputs": [
    {
     "name": "stderr",
     "output_type": "stream",
     "text": [
      "  0%|          | 0/12466 [00:00<?, ?it/s]/home/pierre/riken/riken/rnn/rnn_keras_with_psiblast.py:42: ParserWarning: Falling back to the 'python' engine because the 'c' engine does not support skipfooter; you can avoid this warning by specifying engine='python'.\n",
      "  pssm = pd.read_csv(pssm_path, sep=' ', skiprows=2, skipfooter=6, skipinitialspace=True)\\\n",
      "  3%|▎         | 370/12466 [00:12<06:57, 28.95it/s]"
     ]
    },
    {
     "name": "stdout",
     "output_type": "stream",
     "text": [
      "[Errno 2] No such file or directory: '/home/pierre/psiblast/riken_data/397_pssm.txt'\n",
      "Error!\n"
     ]
    },
    {
     "name": "stderr",
     "output_type": "stream",
     "text": [
      "  4%|▍         | 536/12466 [00:16<06:14, 31.83it/s]"
     ]
    },
    {
     "name": "stdout",
     "output_type": "stream",
     "text": [
      "[Errno 2] No such file or directory: '/home/pierre/psiblast/riken_data/577_pssm.txt'\n",
      "Error!\n"
     ]
    },
    {
     "name": "stderr",
     "output_type": "stream",
     "text": [
      "  4%|▍         | 558/12466 [00:17<06:13, 31.87it/s]"
     ]
    },
    {
     "name": "stdout",
     "output_type": "stream",
     "text": [
      "[Errno 2] No such file or directory: '/home/pierre/psiblast/riken_data/594_pssm.txt'\n",
      "Error!\n"
     ]
    },
    {
     "name": "stderr",
     "output_type": "stream",
     "text": [
      "  5%|▌         | 631/12466 [00:19<05:59, 32.93it/s]"
     ]
    },
    {
     "name": "stdout",
     "output_type": "stream",
     "text": [
      "[Errno 2] No such file or directory: '/home/pierre/psiblast/riken_data/669_pssm.txt'\n",
      "Error!\n"
     ]
    },
    {
     "name": "stderr",
     "output_type": "stream",
     "text": [
      "  6%|▌         | 772/12466 [00:22<05:47, 33.62it/s]"
     ]
    },
    {
     "name": "stdout",
     "output_type": "stream",
     "text": [
      "[Errno 2] No such file or directory: '/home/pierre/psiblast/riken_data/809_pssm.txt'\n",
      "Error!\n"
     ]
    },
    {
     "name": "stderr",
     "output_type": "stream",
     "text": [
      "  6%|▋         | 798/12466 [00:23<05:44, 33.86it/s]"
     ]
    },
    {
     "name": "stdout",
     "output_type": "stream",
     "text": [
      "[Errno 2] No such file or directory: '/home/pierre/psiblast/riken_data/833_pssm.txt'\n",
      "Error!\n"
     ]
    },
    {
     "name": "stderr",
     "output_type": "stream",
     "text": [
      "  7%|▋         | 929/12466 [00:26<05:31, 34.76it/s]"
     ]
    },
    {
     "name": "stdout",
     "output_type": "stream",
     "text": [
      "[Errno 2] No such file or directory: '/home/pierre/psiblast/riken_data/972_pssm.txt'\n",
      "Error!\n"
     ]
    },
    {
     "name": "stderr",
     "output_type": "stream",
     "text": [
      "  9%|▉         | 1118/12466 [00:31<05:19, 35.54it/s]"
     ]
    },
    {
     "name": "stdout",
     "output_type": "stream",
     "text": [
      "[Errno 2] No such file or directory: '/home/pierre/psiblast/riken_data/1168_pssm.txt'\n",
      "Error!\n"
     ]
    },
    {
     "name": "stderr",
     "output_type": "stream",
     "text": [
      " 10%|█         | 1281/12466 [00:35<05:10, 36.04it/s]"
     ]
    },
    {
     "name": "stdout",
     "output_type": "stream",
     "text": [
      "[Errno 2] No such file or directory: '/home/pierre/psiblast/riken_data/1346_pssm.txt'\n",
      "Error!\n"
     ]
    },
    {
     "name": "stderr",
     "output_type": "stream",
     "text": [
      " 11%|█▏        | 1432/12466 [00:38<04:59, 36.78it/s]"
     ]
    },
    {
     "name": "stdout",
     "output_type": "stream",
     "text": [
      "[Errno 2] No such file or directory: '/home/pierre/psiblast/riken_data/1499_pssm.txt'\n",
      "Error!\n"
     ]
    },
    {
     "name": "stderr",
     "output_type": "stream",
     "text": [
      " 12%|█▏        | 1480/12466 [00:40<04:57, 36.98it/s]"
     ]
    },
    {
     "name": "stdout",
     "output_type": "stream",
     "text": [
      "[Errno 2] No such file or directory: '/home/pierre/psiblast/riken_data/1547_pssm.txt'\n",
      "Error!\n"
     ]
    },
    {
     "name": "stderr",
     "output_type": "stream",
     "text": [
      " 12%|█▏        | 1549/12466 [00:41<04:52, 37.29it/s]"
     ]
    },
    {
     "name": "stdout",
     "output_type": "stream",
     "text": [
      "[Errno 2] No such file or directory: '/home/pierre/psiblast/riken_data/1617_pssm.txt'\n",
      "Error!\n"
     ]
    },
    {
     "name": "stderr",
     "output_type": "stream",
     "text": [
      " 13%|█▎        | 1566/12466 [00:41<04:51, 37.34it/s]"
     ]
    },
    {
     "name": "stdout",
     "output_type": "stream",
     "text": [
      "[Errno 2] No such file or directory: '/home/pierre/psiblast/riken_data/1631_pssm.txt'\n",
      "Error!\n"
     ]
    },
    {
     "name": "stderr",
     "output_type": "stream",
     "text": [
      " 14%|█▎        | 1693/12466 [00:44<04:44, 37.81it/s]"
     ]
    },
    {
     "name": "stdout",
     "output_type": "stream",
     "text": [
      "[Errno 2] No such file or directory: '/home/pierre/psiblast/riken_data/1758_pssm.txt'\n",
      "Error!\n",
      "[Errno 2] No such file or directory: '/home/pierre/psiblast/riken_data/1759_pssm.txt'\n",
      "Error!\n",
      "[Errno 2] No such file or directory: '/home/pierre/psiblast/riken_data/1760_pssm.txt'\n",
      "Error!\n",
      "[Errno 2] No such file or directory: '/home/pierre/psiblast/riken_data/1768_pssm.txt'\n",
      "Error!\n"
     ]
    },
    {
     "name": "stderr",
     "output_type": "stream",
     "text": [
      " 14%|█▍        | 1774/12466 [00:46<04:40, 38.13it/s]"
     ]
    },
    {
     "name": "stdout",
     "output_type": "stream",
     "text": [
      "[Errno 2] No such file or directory: '/home/pierre/psiblast/riken_data/1839_pssm.txt'\n",
      "Error!\n",
      "[Errno 2] No such file or directory: '/home/pierre/psiblast/riken_data/1840_pssm.txt'\n",
      "Error!\n",
      "[Errno 2] No such file or directory: '/home/pierre/psiblast/riken_data/1841_pssm.txt'\n",
      "Error!\n",
      "[Errno 2] No such file or directory: '/home/pierre/psiblast/riken_data/1842_pssm.txt'\n",
      "Error!\n",
      "[Errno 2] No such file or directory: '/home/pierre/psiblast/riken_data/1843_pssm.txt'\n",
      "Error!\n",
      "[Errno 2] No such file or directory: '/home/pierre/psiblast/riken_data/1844_pssm.txt'\n",
      "Error!\n",
      "[Errno 2] No such file or directory: '/home/pierre/psiblast/riken_data/1855_pssm.txt'\n",
      "Error!\n"
     ]
    },
    {
     "name": "stderr",
     "output_type": "stream",
     "text": [
      " 15%|█▌        | 1875/12466 [00:49<04:37, 38.23it/s]"
     ]
    },
    {
     "name": "stdout",
     "output_type": "stream",
     "text": [
      "[Errno 2] No such file or directory: '/home/pierre/psiblast/riken_data/1950_pssm.txt'\n",
      "Error!\n",
      "[Errno 2] No such file or directory: '/home/pierre/psiblast/riken_data/1960_pssm.txt'\n",
      "Error!\n"
     ]
    },
    {
     "name": "stderr",
     "output_type": "stream",
     "text": [
      " 15%|█▌        | 1891/12466 [00:49<04:36, 38.22it/s]"
     ]
    },
    {
     "name": "stdout",
     "output_type": "stream",
     "text": [
      "[Errno 2] No such file or directory: '/home/pierre/psiblast/riken_data/1972_pssm.txt'\n",
      "Error!\n"
     ]
    },
    {
     "name": "stderr",
     "output_type": "stream",
     "text": [
      "100%|██████████| 12466/12466 [06:08<00:00, 33.81it/s]\n"
     ]
    },
    {
     "name": "stdout",
     "output_type": "stream",
     "text": [
      "(12439, 500)\n",
      "(12439, 2)\n",
      "(12439, 500, 42)\n",
      "12439 examples\n",
      "[]\n",
      "(10814,) (1248,)\n",
      "[[ 0.    0.    0.   ...  0.    0.    0.  ]\n",
      " [ 0.    0.    0.   ...  0.    0.    0.  ]\n",
      " [ 0.    0.    0.   ...  0.    0.    0.  ]\n",
      " ...\n",
      " [ 3.   -4.   -4.   ...  0.    1.62  0.36]\n",
      " [-2.   -1.   -2.   ... 15.    0.33  0.16]\n",
      " [-3.   -4.   -5.   ... 40.    0.85  0.28]]\n",
      "[[ 0.    0.    0.   ...  0.    0.    0.  ]\n",
      " [ 0.    0.    0.   ...  0.    0.    0.  ]\n",
      " [ 0.    0.    0.   ...  0.    0.    0.  ]\n",
      " ...\n",
      " [-1.   -2.    2.   ...  0.    0.55  0.14]\n",
      " [-2.   -1.    1.   ...  0.    0.98  0.23]\n",
      " [-2.   -2.   -3.   ...  0.    1.9   0.2 ]]\n"
     ]
    }
   ],
   "source": [
    "df = pd.read_csv(DATA_PATH, sep='\\t').dropna()\n",
    "df = df.loc[df.seq_len >= 50, :]\n",
    "\n",
    "try:\n",
    "    df.loc[:, 'sequences'] = df.sequences_x\n",
    "except AttributeError:\n",
    "    pass\n",
    "\n",
    "sequences, y = df['sequences'].values, df[KEY_TO_PREDICT]\n",
    "y = pd.get_dummies(y).values\n",
    "X = pad_sequences([[prot_features.safe_char_to_idx(char) for char in sequence]\n",
    "                   for sequence in sequences], maxlen=MAXLEN)\n",
    "groups = None if GROUPS is None else df[GROUPS].values\n",
    "indices = df.index.values\n",
    "\n",
    "# Get train test indices before getting all features (potentially less\n",
    "# FOR CONSISTENCY PURPOSES\n",
    "train_inds, test_inds = SPLITTER(sequences, y, groups)\n",
    "\n",
    "X, pssm, y, old_to_new_indices = get_all_features(X, y, indices, pssm_format_fi=PSSM_FORMAT_FILE)\n",
    "\n",
    "def convert_indices(old_to_new_dic, indices):\n",
    "    res_ind = []\n",
    "    for ind in indices:\n",
    "        if ind in old_to_new_dic:\n",
    "            res_ind.append(old_to_new_dic[ind])\n",
    "    return np.array(res_ind)\n",
    "\n",
    "train_inds = convert_indices(old_to_new_indices, train_inds)\n",
    "test_inds = convert_indices(old_to_new_indices, test_inds)\n",
    "print(np.intersect1d(train_inds, test_inds))\n",
    "assert len(np.intersect1d(train_inds, test_inds)) == 0\n",
    "print(train_inds.shape, test_inds.shape)\n",
    "Xtrain, Xtest, ytrain, ytest = X[train_inds], X[test_inds], y[train_inds], y[test_inds]\n",
    "pssm_train, pssm_test = pssm[train_inds], pssm[test_inds]\n",
    "\n",
    "print(pssm_train[0])\n",
    "print(pssm_test[0])\n"
   ]
  },
  {
   "cell_type": "code",
   "execution_count": 4,
   "metadata": {},
   "outputs": [],
   "source": [
    "from keras.models import load_model\n",
    "\n",
    "mdl = load_model('logs/riken_data_psiblast/logs_riken_data_psiblast_1_transfer/weights.12-0.35.hdf5')\n",
    "\n",
    "ypred = mdl.predict([Xtest, pssm_test])"
   ]
  },
  {
   "cell_type": "code",
   "execution_count": 8,
   "metadata": {},
   "outputs": [
    {
     "name": "stderr",
     "output_type": "stream",
     "text": [
      "/home/pierre/.conda/envs/python3/lib/python3.6/site-packages/pandas/core/indexing.py:362: SettingWithCopyWarning: \n",
      "A value is trying to be set on a copy of a slice from a DataFrame.\n",
      "Try using .loc[row_indexer,col_indexer] = value instead\n",
      "\n",
      "See the caveats in the documentation: http://pandas.pydata.org/pandas-docs/stable/indexing.html#indexing-view-versus-copy\n",
      "  self.obj[key] = _infer_fill_value(value)\n",
      "/home/pierre/.conda/envs/python3/lib/python3.6/site-packages/pandas/core/indexing.py:543: SettingWithCopyWarning: \n",
      "A value is trying to be set on a copy of a slice from a DataFrame.\n",
      "Try using .loc[row_indexer,col_indexer] = value instead\n",
      "\n",
      "See the caveats in the documentation: http://pandas.pydata.org/pandas-docs/stable/indexing.html#indexing-view-versus-copy\n",
      "  self.obj[item] = s\n"
     ]
    }
   ],
   "source": [
    "test_df = df.iloc[test_inds]\n",
    "test_df.loc[:, 'y_pred'] = ypred[:, 1]"
   ]
  },
  {
   "cell_type": "code",
   "execution_count": 12,
   "metadata": {},
   "outputs": [
    {
     "data": {
      "text/plain": [
       "seq_len\n",
       "False    0.932053\n",
       "True     0.914596\n",
       "dtype: float64"
      ]
     },
     "execution_count": 12,
     "metadata": {},
     "output_type": "execute_result"
    }
   ],
   "source": [
    "from sklearn.metrics import roc_auc_score\n",
    "\n",
    "def roc_auc(df):\n",
    "    return roc_auc_score(df.is_allergenic, df.y_pred)\n",
    "\n",
    "is_long = test_df.seq_len >= 500\n",
    "test_df.groupby(is_long).apply(roc_auc)"
   ]
  },
  {
   "cell_type": "code",
   "execution_count": 14,
   "metadata": {},
   "outputs": [
    {
     "data": {
      "text/plain": [
       "193"
      ]
     },
     "execution_count": 14,
     "metadata": {},
     "output_type": "execute_result"
    }
   ],
   "source": [
    "is_long.sum()"
   ]
  },
  {
   "cell_type": "code",
   "execution_count": 15,
   "metadata": {},
   "outputs": [
    {
     "data": {
      "text/plain": [
       "count     193.000000\n",
       "mean      719.119171\n",
       "std       345.191238\n",
       "min       500.000000\n",
       "25%       527.000000\n",
       "50%       608.000000\n",
       "75%       796.000000\n",
       "max      3099.000000\n",
       "Name: seq_len, dtype: float64"
      ]
     },
     "execution_count": 15,
     "metadata": {},
     "output_type": "execute_result"
    }
   ],
   "source": [
    "test_df[is_long].seq_len.describe()"
   ]
  },
  {
   "cell_type": "code",
   "execution_count": null,
   "metadata": {},
   "outputs": [],
   "source": []
  }
 ],
 "metadata": {
  "kernelspec": {
   "display_name": "Python 3",
   "language": "python",
   "name": "python3"
  },
  "language_info": {
   "codemirror_mode": {
    "name": "ipython",
    "version": 3
   },
   "file_extension": ".py",
   "mimetype": "text/x-python",
   "name": "python",
   "nbconvert_exporter": "python",
   "pygments_lexer": "ipython3",
   "version": "3.6.6"
  }
 },
 "nbformat": 4,
 "nbformat_minor": 1
}
