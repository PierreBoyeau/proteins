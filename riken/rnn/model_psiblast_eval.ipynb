{
 "cells": [
  {
   "cell_type": "code",
   "execution_count": 1,
   "metadata": {},
   "outputs": [
    {
     "name": "stderr",
     "output_type": "stream",
     "text": [
      "Using TensorFlow backend.\n"
     ]
    }
   ],
   "source": [
    "from riken.rnn.rnn_keras_with_psiblast import *\n",
    "from sklearn.metrics import roc_auc_score\n",
    "import seaborn as sns\n",
    "import matplotlib.pyplot as plt\n",
    "from riken.viz_utils import visualize_attention, to_2d_array, visualize_attention_2d\n",
    "from riken.protein_io.prot_features import idx_to_char\n",
    "from keras.models import Model\n",
    "from riken.word2vec.classification_tools import roc_score\n",
    "\n",
    "from tqdm import tqdm\n",
    "\n",
    "\n",
    "RANDOM_STATE = 42\n",
    "MAXLEN = 500\n",
    "DATA_PATH = \"/home/pierre/riken/data/riken_data/complete_from_xlsx_v2COMPLETE.tsv\"\n",
    "KEY_TO_PREDICT = \"is_allergenic\"\n",
    "LOG_DIR = \"/home/pierre/riken/riken/rnn/logs/riken_data_psiblast/logs_riken_data_psiblast_1_transfer\"\n",
    "TRANSFER_PATH = None\n",
    "SPLITTER = data_op.group_shuffle_indices\n",
    "PSSM_FORMAT_FILE = \"/home/pierre/riken/data/psiblast/riken_data_v2/{}_pssm.txt\""
   ]
  },
  {
   "cell_type": "code",
   "execution_count": 2,
   "metadata": {},
   "outputs": [
    {
     "name": "stderr",
     "output_type": "stream",
     "text": [
      "  0%|          | 0/12285 [00:00<?, ?it/s]/home/pierre/riken/riken/rnn/rnn_keras_with_psiblast.py:41: ParserWarning: Falling back to the 'python' engine because the 'c' engine does not support skipfooter; you can avoid this warning by specifying engine='python'.\n",
      "  pssm = pd.read_csv(pssm_path, sep=' ', skiprows=2, skipfooter=6, skipinitialspace=True)\\\n",
      "  3%|▎         | 365/12285 [00:08<04:28, 44.36it/s]"
     ]
    },
    {
     "name": "stdout",
     "output_type": "stream",
     "text": [
      "[Errno 2] No such file or directory: '/home/pierre/riken/data/psiblast/riken_data_v2/baa04558.1_pssm.txt'\n",
      "Error!\n"
     ]
    },
    {
     "name": "stderr",
     "output_type": "stream",
     "text": [
      "  4%|▍         | 538/12285 [00:12<04:36, 42.50it/s]"
     ]
    },
    {
     "name": "stdout",
     "output_type": "stream",
     "text": [
      "[Errno 2] No such file or directory: '/home/pierre/riken/data/psiblast/riken_data_v2/caa09885.1_pssm.txt'\n",
      "Error!\n"
     ]
    },
    {
     "name": "stderr",
     "output_type": "stream",
     "text": [
      "  5%|▍         | 555/12285 [00:13<04:38, 42.07it/s]"
     ]
    },
    {
     "name": "stdout",
     "output_type": "stream",
     "text": [
      "[Errno 2] No such file or directory: '/home/pierre/riken/data/psiblast/riken_data_v2/cab39376.1_pssm.txt'\n",
      "Error!\n"
     ]
    },
    {
     "name": "stderr",
     "output_type": "stream",
     "text": [
      "  5%|▌         | 633/12285 [00:15<04:44, 41.01it/s]"
     ]
    },
    {
     "name": "stdout",
     "output_type": "stream",
     "text": [
      "[Errno 2] No such file or directory: '/home/pierre/riken/data/psiblast/riken_data_v2/caa09886.2_pssm.txt'\n",
      "Error!\n"
     ]
    },
    {
     "name": "stderr",
     "output_type": "stream",
     "text": [
      "  6%|▋         | 771/12285 [00:18<04:30, 42.53it/s]"
     ]
    },
    {
     "name": "stdout",
     "output_type": "stream",
     "text": [
      "[Errno 2] No such file or directory: '/home/pierre/riken/data/psiblast/riken_data_v2/caa09887.4_pssm.txt'\n",
      "Error!\n"
     ]
    },
    {
     "name": "stderr",
     "output_type": "stream",
     "text": [
      "  7%|▋         | 800/12285 [00:18<04:27, 42.98it/s]"
     ]
    },
    {
     "name": "stdout",
     "output_type": "stream",
     "text": [
      "[Errno 2] No such file or directory: '/home/pierre/riken/data/psiblast/riken_data_v2/aam55492.1_pssm.txt'\n",
      "Error!\n"
     ]
    },
    {
     "name": "stderr",
     "output_type": "stream",
     "text": [
      "  8%|▊         | 931/12285 [00:21<04:20, 43.50it/s]"
     ]
    },
    {
     "name": "stdout",
     "output_type": "stream",
     "text": [
      "[Errno 2] No such file or directory: '/home/pierre/riken/data/psiblast/riken_data_v2/aap94213.1_pssm.txt'\n",
      "Error!\n"
     ]
    },
    {
     "name": "stderr",
     "output_type": "stream",
     "text": [
      "  9%|▉         | 1120/12285 [00:24<04:03, 45.94it/s]"
     ]
    },
    {
     "name": "stdout",
     "output_type": "stream",
     "text": [
      "[Errno 2] No such file or directory: '/home/pierre/riken/data/psiblast/riken_data_v2/cai64398.1_pssm.txt'\n",
      "Error!\n"
     ]
    },
    {
     "name": "stderr",
     "output_type": "stream",
     "text": [
      " 10%|█         | 1287/12285 [00:27<03:51, 47.47it/s]"
     ]
    },
    {
     "name": "stdout",
     "output_type": "stream",
     "text": [
      "[Errno 2] No such file or directory: '/home/pierre/riken/data/psiblast/riken_data_v2/abl77410.1_pssm.txt'\n",
      "Error!\n"
     ]
    },
    {
     "name": "stderr",
     "output_type": "stream",
     "text": [
      " 12%|█▏        | 1437/12285 [00:29<03:41, 48.97it/s]"
     ]
    },
    {
     "name": "stdout",
     "output_type": "stream",
     "text": [
      "[Errno 2] No such file or directory: '/home/pierre/riken/data/psiblast/riken_data_v2/acb46292.1_pssm.txt'\n",
      "Error!\n"
     ]
    },
    {
     "name": "stderr",
     "output_type": "stream",
     "text": [
      " 12%|█▏        | 1484/12285 [00:30<03:40, 49.04it/s]"
     ]
    },
    {
     "name": "stdout",
     "output_type": "stream",
     "text": [
      "[Errno 2] No such file or directory: '/home/pierre/riken/data/psiblast/riken_data_v2/car82266.1_pssm.txt'\n",
      "Error!\n"
     ]
    },
    {
     "name": "stderr",
     "output_type": "stream",
     "text": [
      " 13%|█▎        | 1551/12285 [00:31<03:37, 49.39it/s]"
     ]
    },
    {
     "name": "stdout",
     "output_type": "stream",
     "text": [
      "[Errno 2] No such file or directory: '/home/pierre/riken/data/psiblast/riken_data_v2/act37324.1_pssm.txt'\n",
      "Error!\n"
     ]
    },
    {
     "name": "stderr",
     "output_type": "stream",
     "text": [
      " 13%|█▎        | 1567/12285 [00:31<03:36, 49.49it/s]"
     ]
    },
    {
     "name": "stdout",
     "output_type": "stream",
     "text": [
      "[Errno 2] No such file or directory: '/home/pierre/riken/data/psiblast/riken_data_v2/acz95445.1_pssm.txt'\n",
      "Error!\n"
     ]
    },
    {
     "name": "stderr",
     "output_type": "stream",
     "text": [
      " 14%|█▍        | 1699/12285 [00:33<03:29, 50.50it/s]"
     ]
    },
    {
     "name": "stdout",
     "output_type": "stream",
     "text": [
      "[Errno 2] No such file or directory: '/home/pierre/riken/data/psiblast/riken_data_v2/baj78221.1_pssm.txt'\n",
      "Error!\n",
      "[Errno 2] No such file or directory: '/home/pierre/riken/data/psiblast/riken_data_v2/baj78222.1_pssm.txt'\n",
      "Error!\n",
      "[Errno 2] No such file or directory: '/home/pierre/riken/data/psiblast/riken_data_v2/baj78223.1_pssm.txt'\n",
      "Error!\n",
      "[Errno 2] No such file or directory: '/home/pierre/riken/data/psiblast/riken_data_v2/aee98392.1_pssm.txt'\n",
      "Error!\n"
     ]
    },
    {
     "name": "stderr",
     "output_type": "stream",
     "text": [
      " 14%|█▍        | 1776/12285 [00:34<03:25, 51.10it/s]"
     ]
    },
    {
     "name": "stdout",
     "output_type": "stream",
     "text": [
      "[Errno 2] No such file or directory: '/home/pierre/riken/data/psiblast/riken_data_v2/agc60026.1_pssm.txt'\n",
      "Error!\n",
      "[Errno 2] No such file or directory: '/home/pierre/riken/data/psiblast/riken_data_v2/agc60027.1_pssm.txt'\n",
      "Error!\n",
      "[Errno 2] No such file or directory: '/home/pierre/riken/data/psiblast/riken_data_v2/agc60028.1_pssm.txt'\n",
      "Error!\n",
      "[Errno 2] No such file or directory: '/home/pierre/riken/data/psiblast/riken_data_v2/agc60029.1_pssm.txt'\n",
      "Error!\n",
      "[Errno 2] No such file or directory: '/home/pierre/riken/data/psiblast/riken_data_v2/agc60030.1_pssm.txt'\n",
      "Error!\n",
      "[Errno 2] No such file or directory: '/home/pierre/riken/data/psiblast/riken_data_v2/agc60031.1_pssm.txt'\n",
      "Error!\n",
      "[Errno 2] No such file or directory: '/home/pierre/riken/data/psiblast/riken_data_v2/ccu99206.1_pssm.txt'\n",
      "Error!\n"
     ]
    },
    {
     "name": "stderr",
     "output_type": "stream",
     "text": [
      " 15%|█▌        | 1872/12285 [00:36<03:21, 51.74it/s]"
     ]
    },
    {
     "name": "stdout",
     "output_type": "stream",
     "text": [
      "[Errno 2] No such file or directory: '/home/pierre/riken/data/psiblast/riken_data_v2/akj77990.1_pssm.txt'\n",
      "Error!\n",
      "[Errno 2] No such file or directory: '/home/pierre/riken/data/psiblast/riken_data_v2/bat62430.1_pssm.txt'\n",
      "Error!\n"
     ]
    },
    {
     "name": "stderr",
     "output_type": "stream",
     "text": [
      " 15%|█▌        | 1894/12285 [00:36<03:20, 51.86it/s]"
     ]
    },
    {
     "name": "stdout",
     "output_type": "stream",
     "text": [
      "[Errno 2] No such file or directory: '/home/pierre/riken/data/psiblast/riken_data_v2/4zce_a_pssm.txt'\n",
      "Error!\n"
     ]
    },
    {
     "name": "stderr",
     "output_type": "stream",
     "text": [
      "100%|██████████| 12285/12285 [04:14<00:00, 48.23it/s]\n"
     ]
    },
    {
     "name": "stdout",
     "output_type": "stream",
     "text": [
      "(12285, 500)\n",
      "(12285, 2)\n",
      "(12285, 500, 42)\n",
      "12285 examples\n",
      "[]\n",
      "(11061,) (1224,)\n",
      "[[ 0.    0.    0.   ...  0.    0.    0.  ]\n",
      " [ 0.    0.    0.   ...  0.    0.    0.  ]\n",
      " [ 0.    0.    0.   ...  0.    0.    0.  ]\n",
      " ...\n",
      " [ 3.   -4.   -4.   ...  0.    1.62  0.36]\n",
      " [-2.   -1.   -2.   ... 15.    0.33  0.16]\n",
      " [-3.   -4.   -5.   ... 40.    0.85  0.28]]\n",
      "[[ 0.    0.    0.   ...  0.    0.    0.  ]\n",
      " [ 0.    0.    0.   ...  0.    0.    0.  ]\n",
      " [ 0.    0.    0.   ...  0.    0.    0.  ]\n",
      " ...\n",
      " [-1.   -2.    2.   ...  0.    0.55  0.14]\n",
      " [-2.   -1.    1.   ...  0.    0.98  0.23]\n",
      " [-2.   -2.   -3.   ...  0.    1.9   0.2 ]]\n"
     ]
    }
   ],
   "source": [
    "df = pd.read_csv(DATA_PATH, sep='\\t', index_col=0).dropna()\n",
    "df = df.loc[df.seq_len >= 50, :]\n",
    "\n",
    "sequences, y = df['sequences'].values, df[KEY_TO_PREDICT]\n",
    "y = pd.get_dummies(y).values\n",
    "X = pad_sequences([[prot_features.safe_char_to_idx(char) for char in sequence]\n",
    "                   for sequence in sequences], maxlen=MAXLEN)\n",
    "indices = df.index.values\n",
    "\n",
    "# Get train test indices before getting all features (potentially less\n",
    "# FOR CONSISTENCY PURPOSES\n",
    "\n",
    "# groups = None if GROUPS is None else df[GROUPS].values\n",
    "# train_inds, test_inds = SPLITTER(sequences, y, groups)\n",
    "\n",
    "train_inds, test_inds = np.where(df.is_train)[0], np.where(df.is_train==False)[0]\n",
    "\n",
    "X, pssm, y = get_all_features(X, y, indices, pssm_format_fi=PSSM_FORMAT_FILE)\n",
    "\n",
    "def convert_indices(old_to_new_dic, indices):\n",
    "    res_ind = []\n",
    "    for ind in indices:\n",
    "        if ind in old_to_new_dic:\n",
    "            res_ind.append(old_to_new_dic[ind])\n",
    "    return np.array(res_ind)\n",
    "\n",
    "print(np.intersect1d(train_inds, test_inds))\n",
    "assert len(np.intersect1d(train_inds, test_inds)) == 0\n",
    "print(train_inds.shape, test_inds.shape)\n",
    "Xtrain, Xtest, ytrain, ytest = X[train_inds], X[test_inds], y[train_inds], y[test_inds]\n",
    "pssm_train, pssm_test = pssm[train_inds], pssm[test_inds]\n",
    "\n",
    "print(pssm_train[0])\n",
    "print(pssm_test[0])"
   ]
  },
  {
   "cell_type": "code",
   "execution_count": 3,
   "metadata": {},
   "outputs": [],
   "source": [
    "train_protein_names, test_protein_names = indices[train_inds], indices[test_inds]"
   ]
  },
  {
   "cell_type": "code",
   "execution_count": 4,
   "metadata": {},
   "outputs": [
    {
     "name": "stderr",
     "output_type": "stream",
     "text": [
      "/home/pierre/.conda/envs/python3/lib/python3.6/site-packages/pandas/core/indexing.py:362: SettingWithCopyWarning: \n",
      "A value is trying to be set on a copy of a slice from a DataFrame.\n",
      "Try using .loc[row_indexer,col_indexer] = value instead\n",
      "\n",
      "See the caveats in the documentation: http://pandas.pydata.org/pandas-docs/stable/indexing.html#indexing-view-versus-copy\n",
      "  self.obj[key] = _infer_fill_value(value)\n",
      "/home/pierre/.conda/envs/python3/lib/python3.6/site-packages/pandas/core/indexing.py:543: SettingWithCopyWarning: \n",
      "A value is trying to be set on a copy of a slice from a DataFrame.\n",
      "Try using .loc[row_indexer,col_indexer] = value instead\n",
      "\n",
      "See the caveats in the documentation: http://pandas.pydata.org/pandas-docs/stable/indexing.html#indexing-view-versus-copy\n",
      "  self.obj[item] = s\n"
     ]
    }
   ],
   "source": [
    "from keras.models import load_model\n",
    "\n",
    "mdl = load_model('logs/riken_data_psiblast/logs_riken_data_psiblast_1_NO_transfer/weights.12-0.37.hdf5')\n",
    "ypred = mdl.predict([Xtest, pssm_test])\n",
    "\n",
    "test_df = df.iloc[test_inds]\n",
    "test_df.loc[:, 'y_pred'] = ypred[:, 1]"
   ]
  },
  {
   "cell_type": "code",
   "execution_count": 11,
   "metadata": {},
   "outputs": [
    {
     "data": {
      "text/plain": [
       "0.9312413856202205"
      ]
     },
     "execution_count": 11,
     "metadata": {},
     "output_type": "execute_result"
    }
   ],
   "source": [
    "roc_auc_score(test_df.is_allergenic, test_df.y_pred)\n",
    "roc_score(ytest[:, 1], ypred[:, 1])"
   ]
  },
  {
   "cell_type": "code",
   "execution_count": 6,
   "metadata": {},
   "outputs": [],
   "source": [
    "attention = mdl.get_layer(name='activation_1').output\n",
    "attention_model = Model(inputs=mdl.inputs, outputs=attention)"
   ]
  },
  {
   "cell_type": "markdown",
   "metadata": {},
   "source": [
    "# Save all attention viz"
   ]
  },
  {
   "cell_type": "code",
   "execution_count": 8,
   "metadata": {},
   "outputs": [],
   "source": [
    "import os\n",
    "def save_attentions(attentions, characters, y_true, y_pred, protein_names, dire):\n",
    "    for indice, name in enumerate(tqdm(protein_names)):\n",
    "        seq = characters[indice]\n",
    "        first_non_null = [ind for ind in range(len(seq)) if seq[ind]!=''][0]\n",
    "        seq = seq[first_non_null:]\n",
    "        att = atts[indice][first_non_null:]\n",
    "        assert(len(att)==len(seq))\n",
    "        fig = plt.figure()\n",
    "        ax = visualize_attention_2d(seq, att, ncols=20)\n",
    "        fig.suptitle('protein name: {name}; allergen: {is_allergen}; predicted score: {score}'\n",
    "                .format(name=name, is_allergen=y_true[indice], score=y_pred[indice]))\n",
    "        fig.savefig(os.path.join(dire, '{}_attention.png'.format(name)))\n",
    "        plt.close()\n",
    "        "
   ]
  },
  {
   "cell_type": "code",
   "execution_count": 10,
   "metadata": {},
   "outputs": [
    {
     "name": "stderr",
     "output_type": "stream",
     "text": [
      "100%|██████████| 1224/1224 [07:09<00:00,  2.85it/s]\n"
     ]
    }
   ],
   "source": [
    "seqs, pssms = Xtest, pssm_test\n",
    "atts = attention_model.predict([seqs, pssms])\n",
    "seqs_str = [[idx_to_char[idce] for idce in seq] for seq in seqs]\n",
    "ypred = mdl.predict([seqs, pssms])[:, 1]\n",
    "ytrue = ytest[:, 1]\n",
    "\n",
    "save_attentions(atts, seqs_str, ytrue, ypred, test_protein_names, 'tra_attentions')"
   ]
  },
  {
   "cell_type": "code",
   "execution_count": 11,
   "metadata": {},
   "outputs": [],
   "source": [
    "!mkdir train_attention"
   ]
  },
  {
   "cell_type": "markdown",
   "metadata": {},
   "source": [
    "# Experiments"
   ]
  },
  {
   "cell_type": "code",
   "execution_count": 14,
   "metadata": {},
   "outputs": [
    {
     "data": {
      "text/plain": [
       "seq_len\n",
       "False    0.936191\n",
       "True     0.897737\n",
       "dtype: float64"
      ]
     },
     "execution_count": 14,
     "metadata": {},
     "output_type": "execute_result"
    }
   ],
   "source": [
    "def roc_auc(df):\n",
    "    return roc_auc_score(df.is_allergenic, df.y_pred)\n",
    "\n",
    "is_long = test_df.seq_len >= 500\n",
    "test_df.groupby(is_long).apply(roc_auc)"
   ]
  },
  {
   "cell_type": "code",
   "execution_count": 14,
   "metadata": {},
   "outputs": [
    {
     "data": {
      "text/plain": [
       "193"
      ]
     },
     "execution_count": 14,
     "metadata": {},
     "output_type": "execute_result"
    }
   ],
   "source": [
    "is_long.sum()"
   ]
  },
  {
   "cell_type": "code",
   "execution_count": 15,
   "metadata": {},
   "outputs": [
    {
     "data": {
      "text/plain": [
       "count     193.000000\n",
       "mean      719.119171\n",
       "std       345.191238\n",
       "min       500.000000\n",
       "25%       527.000000\n",
       "50%       608.000000\n",
       "75%       796.000000\n",
       "max      3099.000000\n",
       "Name: seq_len, dtype: float64"
      ]
     },
     "execution_count": 15,
     "metadata": {},
     "output_type": "execute_result"
    }
   ],
   "source": [
    "test_df[is_long].seq_len.describe()"
   ]
  },
  {
   "cell_type": "code",
   "execution_count": null,
   "metadata": {},
   "outputs": [],
   "source": []
  }
 ],
 "metadata": {
  "kernelspec": {
   "display_name": "Python 3",
   "language": "python",
   "name": "python3"
  },
  "language_info": {
   "codemirror_mode": {
    "name": "ipython",
    "version": 3
   },
   "file_extension": ".py",
   "mimetype": "text/x-python",
   "name": "python",
   "nbconvert_exporter": "python",
   "pygments_lexer": "ipython3",
   "version": "3.6.6"
  }
 },
 "nbformat": 4,
 "nbformat_minor": 2
}
