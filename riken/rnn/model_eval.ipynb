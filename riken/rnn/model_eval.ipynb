{
 "cells": [
  {
   "cell_type": "code",
   "execution_count": 2,
   "metadata": {},
   "outputs": [],
   "source": [
    "import numpy as np\n",
    "import pandas as pd\n",
    "from keras.preprocessing.sequence import pad_sequences\n",
    "from keras.models import load_model\n",
    "from riken.protein_io import data_op\n",
    "from riken.rnn import rnn_hyperparameters_search\n",
    "from riken.nn_utils import records_maker\n",
    "\n",
    "safe_char_to_idx = rnn_hyperparameters_search.safe_char_to_idx\n",
    "n_chars = rnn_hyperparameters_search.n_chars\n",
    "\n",
    "DATA_PATH = '/home/pierre/riken/data/riken_data/complete_from_xlsx.tsv'\n",
    "KEY_TO_PREDICT = 'is_allergenic'\n",
    "MAXLEN = 500\n",
    "log_dir = './logs_rnn_v2_transfer_new_attention_it38_DATA_AUGMENTATION/weights.04-0.92.hdf5'\n",
    "# log_dir = './logs_rnn_v2_transfer_new_attention_it38/weights.04-0.52.hdf5'"
   ]
  },
  {
   "cell_type": "code",
   "execution_count": 3,
   "metadata": {},
   "outputs": [
    {
     "name": "stdout",
     "output_type": "stream",
     "text": [
      "__________________________________________________________________________________________________\n",
      "Layer (type)                    Output Shape         Param #     Connected to                     \n",
      "==================================================================================================\n",
      "aa_indice (InputLayer)          (None, 500)          0                                            \n",
      "__________________________________________________________________________________________________\n",
      "embedding_1 (Embedding)         (None, 500, 25)      625         aa_indice[0][0]                  \n",
      "__________________________________________________________________________________________________\n",
      "embedding_2 (Embedding)         (None, 500, 42)      1050        aa_indice[0][0]                  \n",
      "__________________________________________________________________________________________________\n",
      "concatenate_1 (Concatenate)     (None, 500, 67)      0           embedding_1[0][0]                \n",
      "                                                                 embedding_2[0][0]                \n",
      "__________________________________________________________________________________________________\n",
      "conv1d_1 (Conv1D)               (None, 500, 100)     20200       concatenate_1[0][0]              \n",
      "__________________________________________________________________________________________________\n",
      "dropout_1 (Dropout)             (None, 500, 100)     0           conv1d_1[0][0]                   \n",
      "__________________________________________________________________________________________________\n",
      "bidirectional_1 (Bidirectional) (None, 500, 200)     161600      dropout_1[0][0]                  \n",
      "__________________________________________________________________________________________________\n",
      "dense_1 (Dense)                 (None, 500, 1)       201         bidirectional_1[0][0]            \n",
      "__________________________________________________________________________________________________\n",
      "lambda_1 (Lambda)               (None, 500)          0           dense_1[0][0]                    \n",
      "__________________________________________________________________________________________________\n",
      "activation_1 (Activation)       (None, 500)          0           lambda_1[0][0]                   \n",
      "__________________________________________________________________________________________________\n",
      "repeat_vector_1 (RepeatVector)  (None, 200, 500)     0           activation_1[0][0]               \n",
      "__________________________________________________________________________________________________\n",
      "permute_1 (Permute)             (None, 500, 200)     0           repeat_vector_1[0][0]            \n",
      "__________________________________________________________________________________________________\n",
      "multiply_1 (Multiply)           (None, 500, 200)     0           permute_1[0][0]                  \n",
      "                                                                 bidirectional_1[0][0]            \n",
      "__________________________________________________________________________________________________\n",
      "lambda_2 (Lambda)               (None, 200)          0           multiply_1[0][0]                 \n",
      "__________________________________________________________________________________________________\n",
      "sequential_1 (Sequential)       (None, 2)            402         lambda_2[0][0]                   \n",
      "__________________________________________________________________________________________________\n",
      "dropout_last (Dropout)          (None, 2)            0           sequential_1[1][0]               \n",
      "==================================================================================================\n",
      "Total params: 184,078\n",
      "Trainable params: 182,403\n",
      "Non-trainable params: 1,675\n",
      "__________________________________________________________________________________________________\n"
     ]
    }
   ],
   "source": [
    "df = pd.read_csv(DATA_PATH, sep='\\t').dropna()\n",
    "df = df.loc[df.seq_len >= 50, :]\n",
    "df.loc[:, 'sequences'] = df.sequences\n",
    "sequences, y = df['sequences'].values, df[KEY_TO_PREDICT]\n",
    "y = pd.get_dummies(y).values\n",
    "X = pad_sequences([[safe_char_to_idx(char) for char in sequence] for sequence in sequences], maxlen=MAXLEN)\n",
    "groups = df.species.values\n",
    "features = np.array([records_maker.get_feat(tokens) for tokens in X])\n",
    "train_inds, test_inds = data_op.group_shuffle_indices(X, y, groups)\n",
    "Xtrain, Xtest, ytrain, ytest = X[train_inds], X[test_inds], y[train_inds], y[test_inds]\n",
    "features_train, features_test = features[train_inds], features[test_inds]\n",
    "\n",
    "model = load_model(log_dir)\n",
    "model.summary()"
   ]
  },
  {
   "cell_type": "code",
   "execution_count": 4,
   "metadata": {},
   "outputs": [
    {
     "name": "stdout",
     "output_type": "stream",
     "text": [
      "(11141, 500) (1325, 500)\n"
     ]
    }
   ],
   "source": [
    "print(Xtrain.shape, Xtest.shape)"
   ]
  },
  {
   "cell_type": "code",
   "execution_count": 5,
   "metadata": {},
   "outputs": [],
   "source": [
    "ypred = model.predict(Xtest)\n",
    "ypred = ypred[:, 1]\n",
    "ytest = ytest[:, 1]"
   ]
  },
  {
   "cell_type": "code",
   "execution_count": 16,
   "metadata": {},
   "outputs": [],
   "source": [
    "import matplotlib.pyplot as plt\n",
    "import sys; sys.path.append(\"../word2vec\")\n",
    "import classification_tools\n",
    "from sklearn.metrics import classification_report\n",
    "\n",
    "\n",
    "classification_tools.roc_score(ytest, ypred)\n",
    "plt.legend()\n",
    "# plt.savefig('/home/pierre/riken/misc/roc_curve_without_DA_5_epochs.png')\n",
    "plt.show()\n",
    "\n",
    "thresh = .3\n",
    "print(classification_report(ytest, ypred >= thresh))"
   ]
  },
  {
   "cell_type": "code",
   "execution_count": 20,
   "metadata": {},
   "outputs": [],
   "source": [
    "df_small = pd.read_csv(DATA_PATH, sep='\\t').dropna()\n",
    "df_small = df_small.loc[df_small.seq_len < 50, :]\n",
    "sequences_small, y_small = df_small['sequences'].values, df_small[KEY_TO_PREDICT]\n",
    "y_small = pd.get_dummies(y_small).values\n",
    "X_small = pad_sequences([[safe_char_to_idx(char) for char in sequence] for sequence in sequences_small], maxlen=MAXLEN)\n",
    "\n",
    "\n",
    "ypred_small = model.predict(X_small)\n",
    "ypred_small = ypred_small[:, 1]\n",
    "ytest_small = y_small[:, 1]"
   ]
  },
  {
   "cell_type": "code",
   "execution_count": 23,
   "metadata": {},
   "outputs": [
    {
     "data": {
      "image/png": "[encoded data removed]",
      "text/plain": [
       "<Figure size 432x288 with 1 Axes>"
      ]
     },
     "metadata": {},
     "output_type": "display_data"
    },
    {
     "name": "stdout",
     "output_type": "stream",
     "text": [
      "             precision    recall  f1-score   support\n",
      "\n",
      "          0       0.81      0.95      0.87       295\n",
      "          1       0.53      0.21      0.30        85\n",
      "\n",
      "avg / total       0.74      0.78      0.74       380\n",
      "\n"
     ]
    }
   ],
   "source": [
    "classification_tools.roc_score(ytest_small, ypred_small)\n",
    "plt.legend()\n",
    "# plt.savefig('/home/pierre/riken/misc/roc_curve_without_DA_5_epochs.png')\n",
    "plt.show()\n",
    "\n",
    "thresh = .5\n",
    "print(classification_report(ytest_small, ypred_small >= thresh))"
   ]
  },
  {
   "cell_type": "markdown",
   "metadata": {},
   "source": [
    "# Attention Vis"
   ]
  },
  {
   "cell_type": "code",
   "execution_count": null,
   "metadata": {},
   "outputs": [],
   "source": [
    "Xtest"
   ]
  },
  {
   "cell_type": "code",
   "execution_count": null,
   "metadata": {},
   "outputs": [],
   "source": [
    "from keras.models import Model\n",
    "import matplotlib.pyplot as plt\n",
    "import seaborn as sns\n",
    "from riken.viz_utils import visualize_attention\n",
    "\n",
    "attention = model.get_layer(name='activation_1').output\n",
    "attention_model = Model(inputs=model.inputs, outputs=attention)"
   ]
  },
  {
   "cell_type": "code",
   "execution_count": null,
   "metadata": {},
   "outputs": [],
   "source": [
    "ypred[50]"
   ]
  },
  {
   "cell_type": "code",
   "execution_count": null,
   "metadata": {},
   "outputs": [],
   "source": [
    "# for idx in range(100):\n",
    "#     ex = Xtest[idx, :]\n",
    "# #     print(ytest[idx])\n",
    "#     print(idx, len(sequences[idx]))\n",
    "\n",
    "idx = 30\n",
    "# idx = 2\n",
    "ex = Xtest[idx, :]\n",
    "print('is allergen', ytest[idx])\n",
    "print('good prediction', (ypred[idx] >= 0.5)==ytest[idx])\n",
    "print('seq len', len(sequences[idx]))"
   ]
  },
  {
   "cell_type": "code",
   "execution_count": null,
   "metadata": {},
   "outputs": [],
   "source": [
    "att_val = attention_model.predict(ex.reshape(1, -1)).reshape(-1)\n",
    "fig, ax = plt.subplots(figsize=(20, 3))\n",
    "ax = visualize_attention(sequences[idx], att_val, False)\n",
    "ax.set_title('Attention visualization for allergen protein sequence')\n",
    "\n",
    "fig.savefig('attention_vis.png')"
   ]
  },
  {
   "cell_type": "code",
   "execution_count": null,
   "metadata": {},
   "outputs": [],
   "source": [
    "where_to_look = np.argmax(att_val[-len(sequences[idx]):])\n",
    "\n",
    "print(sequences[idx][where_to_look-10:where_to_look], ' ', \n",
    "      sequences[idx][where_to_look], \n",
    "      ' ', sequences[idx][where_to_look+1:where_to_look+10])"
   ]
  },
  {
   "cell_type": "markdown",
   "metadata": {},
   "source": [
    "Let's take 5 examples and see if patterns are coherent\n"
   ]
  },
  {
   "cell_type": "code",
   "execution_count": null,
   "metadata": {},
   "outputs": [],
   "source": [
    "np.random.choice(range(423), size=5)"
   ]
  },
  {
   "cell_type": "markdown",
   "metadata": {},
   "source": [
    "    idx=173\n",
    "    good prediction\n",
    "    ENVG   G   NGGP\n",
    "    no match"
   ]
  },
  {
   "cell_type": "markdown",
   "metadata": {},
   "source": [
    "    idx=372\n",
    "    good prediction\n",
    "    VSDA   L   EGKD\n",
    "    LE match but not good sign"
   ]
  },
  {
   "cell_type": "markdown",
   "metadata": {},
   "source": [
    "    idx=182\n",
    "    bad prediction\n",
    "    KITF   P   EGSP\n",
    "    FP match but not good sign"
   ]
  },
  {
   "cell_type": "markdown",
   "metadata": {},
   "source": [
    "    idx=400\n",
    "    good prediction\n",
    "    ANGD   G   TISS\n",
    "    GDG match and good sign\n",
    "    DGT match but not good sign"
   ]
  },
  {
   "cell_type": "markdown",
   "metadata": {},
   "source": [
    "    idx=2\n",
    "    good prediction\n",
    "    LMCE   I   EGNY\n",
    "    IEG match and good sign\n",
    "    CEI match and good sign"
   ]
  },
  {
   "cell_type": "markdown",
   "metadata": {},
   "source": [
    "# Analysis of wrong predictions"
   ]
  },
  {
   "cell_type": "code",
   "execution_count": 8,
   "metadata": {},
   "outputs": [
    {
     "data": {
      "text/plain": [
       "array([9.9199182e-01, 9.6706903e-01, 1.8616079e-01, ..., 1.5388595e-01,\n",
       "       1.1236230e-02, 3.9445359e-04], dtype=float32)"
      ]
     },
     "execution_count": 8,
     "metadata": {},
     "output_type": "execute_result"
    }
   ],
   "source": [
    "ypred"
   ]
  },
  {
   "cell_type": "code",
   "execution_count": 56,
   "metadata": {},
   "outputs": [
    {
     "name": "stderr",
     "output_type": "stream",
     "text": [
      "/home/pierre/miniconda3/envs/python3/lib/python3.6/site-packages/pandas/core/indexing.py:362: SettingWithCopyWarning: \n",
      "A value is trying to be set on a copy of a slice from a DataFrame.\n",
      "Try using .loc[row_indexer,col_indexer] = value instead\n",
      "\n",
      "See the caveats in the documentation: http://pandas.pydata.org/pandas-docs/stable/indexing.html#indexing-view-versus-copy\n",
      "  self.obj[key] = _infer_fill_value(value)\n",
      "/home/pierre/miniconda3/envs/python3/lib/python3.6/site-packages/pandas/core/indexing.py:543: SettingWithCopyWarning: \n",
      "A value is trying to be set on a copy of a slice from a DataFrame.\n",
      "Try using .loc[row_indexer,col_indexer] = value instead\n",
      "\n",
      "See the caveats in the documentation: http://pandas.pydata.org/pandas-docs/stable/indexing.html#indexing-view-versus-copy\n",
      "  self.obj[item] = s\n"
     ]
    }
   ],
   "source": [
    "is_wrong = (ypred >= 0.5) != ytest\n",
    "test_df = df.iloc[test_inds]\n",
    "test_df.loc[:, 'is_misclassified'] = is_wrong\n",
    "misclassifications = test_df.loc[test_df.is_misclassified]"
   ]
  },
  {
   "cell_type": "code",
   "execution_count": 57,
   "metadata": {},
   "outputs": [
    {
     "data": {
      "text/html": [
       "<div>\n",
       "<style scoped>\n",
       "    .dataframe tbody tr th:only-of-type {\n",
       "        vertical-align: middle;\n",
       "    }\n",
       "\n",
       "    .dataframe tbody tr th {\n",
       "        vertical-align: top;\n",
       "    }\n",
       "\n",
       "    .dataframe thead th {\n",
       "        text-align: right;\n",
       "    }\n",
       "</style>\n",
       "<table border=\"1\" class=\"dataframe\">\n",
       "  <thead>\n",
       "    <tr style=\"text-align: right;\">\n",
       "      <th></th>\n",
       "      <th>Misclassification percentage</th>\n",
       "      <th>Number of overall examples</th>\n",
       "      <th>seq_len</th>\n",
       "      <th>seq_len misclassified</th>\n",
       "    </tr>\n",
       "  </thead>\n",
       "  <tbody>\n",
       "    <tr>\n",
       "      <th>aestivum</th>\n",
       "      <td>0.255172</td>\n",
       "      <td>435</td>\n",
       "      <td>301.422989</td>\n",
       "      <td>269.270270</td>\n",
       "    </tr>\n",
       "    <tr>\n",
       "      <th>albacares</th>\n",
       "      <td>0.500000</td>\n",
       "      <td>2</td>\n",
       "      <td>398.000000</td>\n",
       "      <td>364.000000</td>\n",
       "    </tr>\n",
       "    <tr>\n",
       "      <th>alternata</th>\n",
       "      <td>0.315789</td>\n",
       "      <td>19</td>\n",
       "      <td>223.315789</td>\n",
       "      <td>212.333333</td>\n",
       "    </tr>\n",
       "    <tr>\n",
       "      <th>cacti</th>\n",
       "      <td>1.000000</td>\n",
       "      <td>1</td>\n",
       "      <td>335.000000</td>\n",
       "      <td>335.000000</td>\n",
       "    </tr>\n",
       "    <tr>\n",
       "      <th>commune</th>\n",
       "      <td>1.000000</td>\n",
       "      <td>1</td>\n",
       "      <td>576.000000</td>\n",
       "      <td>576.000000</td>\n",
       "    </tr>\n",
       "    <tr>\n",
       "      <th>deliciosa</th>\n",
       "      <td>0.342857</td>\n",
       "      <td>35</td>\n",
       "      <td>230.971429</td>\n",
       "      <td>196.416667</td>\n",
       "    </tr>\n",
       "    <tr>\n",
       "      <th>esculenta</th>\n",
       "      <td>0.200000</td>\n",
       "      <td>5</td>\n",
       "      <td>171.400000</td>\n",
       "      <td>110.000000</td>\n",
       "    </tr>\n",
       "    <tr>\n",
       "      <th>esculentum</th>\n",
       "      <td>0.177778</td>\n",
       "      <td>45</td>\n",
       "      <td>332.622222</td>\n",
       "      <td>359.500000</td>\n",
       "    </tr>\n",
       "    <tr>\n",
       "      <th>familiaris</th>\n",
       "      <td>0.500000</td>\n",
       "      <td>6</td>\n",
       "      <td>261.666667</td>\n",
       "      <td>210.666667</td>\n",
       "    </tr>\n",
       "    <tr>\n",
       "      <th>franciscana</th>\n",
       "      <td>0.040000</td>\n",
       "      <td>25</td>\n",
       "      <td>341.280000</td>\n",
       "      <td>356.000000</td>\n",
       "    </tr>\n",
       "    <tr>\n",
       "      <th>fumigatus</th>\n",
       "      <td>0.419355</td>\n",
       "      <td>31</td>\n",
       "      <td>281.935484</td>\n",
       "      <td>331.923077</td>\n",
       "    </tr>\n",
       "    <tr>\n",
       "      <th>illinoinensis</th>\n",
       "      <td>0.250000</td>\n",
       "      <td>4</td>\n",
       "      <td>394.750000</td>\n",
       "      <td>426.000000</td>\n",
       "    </tr>\n",
       "    <tr>\n",
       "      <th>kali</th>\n",
       "      <td>0.444444</td>\n",
       "      <td>9</td>\n",
       "      <td>298.444444</td>\n",
       "      <td>443.500000</td>\n",
       "    </tr>\n",
       "    <tr>\n",
       "      <th>lycopersicum</th>\n",
       "      <td>0.181818</td>\n",
       "      <td>11</td>\n",
       "      <td>217.090909</td>\n",
       "      <td>594.500000</td>\n",
       "    </tr>\n",
       "    <tr>\n",
       "      <th>max</th>\n",
       "      <td>0.135071</td>\n",
       "      <td>422</td>\n",
       "      <td>353.741706</td>\n",
       "      <td>294.649123</td>\n",
       "    </tr>\n",
       "    <tr>\n",
       "      <th>merguiensis</th>\n",
       "      <td>0.666667</td>\n",
       "      <td>6</td>\n",
       "      <td>1044.333333</td>\n",
       "      <td>273.500000</td>\n",
       "    </tr>\n",
       "    <tr>\n",
       "      <th>niger</th>\n",
       "      <td>0.666667</td>\n",
       "      <td>3</td>\n",
       "      <td>713.666667</td>\n",
       "      <td>804.000000</td>\n",
       "    </tr>\n",
       "    <tr>\n",
       "      <th>nigra</th>\n",
       "      <td>0.250000</td>\n",
       "      <td>4</td>\n",
       "      <td>310.750000</td>\n",
       "      <td>161.000000</td>\n",
       "    </tr>\n",
       "    <tr>\n",
       "      <th>salina</th>\n",
       "      <td>0.157895</td>\n",
       "      <td>19</td>\n",
       "      <td>173.631579</td>\n",
       "      <td>110.000000</td>\n",
       "    </tr>\n",
       "    <tr>\n",
       "      <th>sativa</th>\n",
       "      <td>0.285714</td>\n",
       "      <td>42</td>\n",
       "      <td>241.619048</td>\n",
       "      <td>376.916667</td>\n",
       "    </tr>\n",
       "    <tr>\n",
       "      <th>thummi</th>\n",
       "      <td>0.200000</td>\n",
       "      <td>15</td>\n",
       "      <td>157.533333</td>\n",
       "      <td>151.000000</td>\n",
       "    </tr>\n",
       "    <tr>\n",
       "      <th>vera</th>\n",
       "      <td>0.500000</td>\n",
       "      <td>6</td>\n",
       "      <td>389.666667</td>\n",
       "      <td>480.000000</td>\n",
       "    </tr>\n",
       "    <tr>\n",
       "      <th>vulgaris</th>\n",
       "      <td>0.076923</td>\n",
       "      <td>26</td>\n",
       "      <td>208.615385</td>\n",
       "      <td>469.000000</td>\n",
       "    </tr>\n",
       "    <tr>\n",
       "      <th>yao</th>\n",
       "      <td>1.000000</td>\n",
       "      <td>3</td>\n",
       "      <td>386.333333</td>\n",
       "      <td>386.333333</td>\n",
       "    </tr>\n",
       "  </tbody>\n",
       "</table>\n",
       "</div>"
      ],
      "text/plain": [
       "               Misclassification percentage  Number of overall examples  \\\n",
       "aestivum                           0.255172                         435   \n",
       "albacares                          0.500000                           2   \n",
       "alternata                          0.315789                          19   \n",
       "cacti                              1.000000                           1   \n",
       "commune                            1.000000                           1   \n",
       "deliciosa                          0.342857                          35   \n",
       "esculenta                          0.200000                           5   \n",
       "esculentum                         0.177778                          45   \n",
       "familiaris                         0.500000                           6   \n",
       "franciscana                        0.040000                          25   \n",
       "fumigatus                          0.419355                          31   \n",
       "illinoinensis                      0.250000                           4   \n",
       "kali                               0.444444                           9   \n",
       "lycopersicum                       0.181818                          11   \n",
       "max                                0.135071                         422   \n",
       "merguiensis                        0.666667                           6   \n",
       "niger                              0.666667                           3   \n",
       "nigra                              0.250000                           4   \n",
       "salina                             0.157895                          19   \n",
       "sativa                             0.285714                          42   \n",
       "thummi                             0.200000                          15   \n",
       "vera                               0.500000                           6   \n",
       "vulgaris                           0.076923                          26   \n",
       "yao                                1.000000                           3   \n",
       "\n",
       "                   seq_len  seq_len misclassified  \n",
       "aestivum        301.422989             269.270270  \n",
       "albacares       398.000000             364.000000  \n",
       "alternata       223.315789             212.333333  \n",
       "cacti           335.000000             335.000000  \n",
       "commune         576.000000             576.000000  \n",
       "deliciosa       230.971429             196.416667  \n",
       "esculenta       171.400000             110.000000  \n",
       "esculentum      332.622222             359.500000  \n",
       "familiaris      261.666667             210.666667  \n",
       "franciscana     341.280000             356.000000  \n",
       "fumigatus       281.935484             331.923077  \n",
       "illinoinensis   394.750000             426.000000  \n",
       "kali            298.444444             443.500000  \n",
       "lycopersicum    217.090909             594.500000  \n",
       "max             353.741706             294.649123  \n",
       "merguiensis    1044.333333             273.500000  \n",
       "niger           713.666667             804.000000  \n",
       "nigra           310.750000             161.000000  \n",
       "salina          173.631579             110.000000  \n",
       "sativa          241.619048             376.916667  \n",
       "thummi          157.533333             151.000000  \n",
       "vera            389.666667             480.000000  \n",
       "vulgaris        208.615385             469.000000  \n",
       "yao             386.333333             386.333333  "
      ]
     },
     "execution_count": 57,
     "metadata": {},
     "output_type": "execute_result"
    }
   ],
   "source": [
    "gp_sizes = df.iloc[test_inds].groupby('species').size()\n",
    "gp_sizes.name = 'Number of overall examples'\n",
    "gp_mean_len = df.iloc[test_inds].groupby('species').seq_len.mean()\n",
    "\n",
    "\n",
    "\n",
    "gped = misclassifications.groupby('species')\n",
    "\n",
    "perc_misclas = gped.sequences.size() / gp_sizes\n",
    "perc_misclas.name = 'Misclassification percentage'\n",
    "\n",
    "gp_mean_len_misclass = gped.seq_len.mean()\n",
    "gp_mean_len_misclass.name = 'seq_len misclassified'\n",
    "\n",
    "pd.concat([perc_misclas, gp_sizes, gp_mean_len, gp_mean_len_misclass], axis=1, sort=True).dropna()"
   ]
  },
  {
   "cell_type": "code",
   "execution_count": 60,
   "metadata": {},
   "outputs": [
    {
     "data": {
      "text/plain": [
       "<matplotlib.axes._subplots.AxesSubplot at 0x7fd6d83c7e48>"
      ]
     },
     "execution_count": 60,
     "metadata": {},
     "output_type": "execute_result"
    },
    {
     "data": {
      "image/png": "[encoded data removed]",
      "text/plain": [
       "<Figure size 432x288 with 1 Axes>"
      ]
     },
     "metadata": {},
     "output_type": "display_data"
    }
   ],
   "source": [
    "import seaborn as sns\n",
    "\n",
    "sns.violinplot(x='is_misclassified', y='seq_len', data=test_df)"
   ]
  },
  {
   "cell_type": "code",
   "execution_count": 61,
   "metadata": {},
   "outputs": [
    {
     "data": {
      "text/plain": [
       "<matplotlib.axes._subplots.AxesSubplot at 0x7fd66907dbe0>"
      ]
     },
     "execution_count": 61,
     "metadata": {},
     "output_type": "execute_result"
    },
    {
     "data": {
      "image/png": "[encoded data removed]",
      "text/plain": [
       "<Figure size 432x288 with 1 Axes>"
      ]
     },
     "metadata": {},
     "output_type": "display_data"
    }
   ],
   "source": [
    "sns.boxplot(x='is_misclassified', y='seq_len', data=test_df)"
   ]
  },
  {
   "cell_type": "markdown",
   "metadata": {},
   "source": [
    "Nothing seems abnormal."
   ]
  },
  {
   "cell_type": "code",
   "execution_count": null,
   "metadata": {},
   "outputs": [],
   "source": []
  }
 ],
 "metadata": {
  "kernelspec": {
   "display_name": "Python 3",
   "language": "python",
   "name": "python3"
  },
  "language_info": {
   "codemirror_mode": {
    "name": "ipython",
    "version": 3
   },
   "file_extension": ".py",
   "mimetype": "text/x-python",
   "name": "python",
   "nbconvert_exporter": "python",
   "pygments_lexer": "ipython3",
   "version": "3.6.6"
  }
 },
 "nbformat": 4,
 "nbformat_minor": 2
}
